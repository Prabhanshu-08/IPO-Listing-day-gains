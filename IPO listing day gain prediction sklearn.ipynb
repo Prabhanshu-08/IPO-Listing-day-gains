{
 "cells": [
  {
   "cell_type": "code",
   "execution_count": 1,
   "id": "0b8c2472",
   "metadata": {},
   "outputs": [],
   "source": [
    "import numpy as np\n",
    "import pandas as pd\n",
    "import matplotlib.pyplot as plt\n",
    "import seaborn as sns\n",
    "import tensorflow as tf"
   ]
  },
  {
   "cell_type": "code",
   "execution_count": 2,
   "id": "4252a3b2",
   "metadata": {},
   "outputs": [],
   "source": [
    "df=pd.read_csv(r\"C:\\Users\\prabh\\Videos\\Datasets\\IPO.csv\")"
   ]
  },
  {
   "cell_type": "code",
   "execution_count": 3,
   "id": "294a53ac",
   "metadata": {},
   "outputs": [
    {
     "data": {
      "text/html": [
       "<div>\n",
       "<style scoped>\n",
       "    .dataframe tbody tr th:only-of-type {\n",
       "        vertical-align: middle;\n",
       "    }\n",
       "\n",
       "    .dataframe tbody tr th {\n",
       "        vertical-align: top;\n",
       "    }\n",
       "\n",
       "    .dataframe thead th {\n",
       "        text-align: right;\n",
       "    }\n",
       "</style>\n",
       "<table border=\"1\" class=\"dataframe\">\n",
       "  <thead>\n",
       "    <tr style=\"text-align: right;\">\n",
       "      <th></th>\n",
       "      <th>Company Name</th>\n",
       "      <th>Retail Investors</th>\n",
       "      <th>Qualified Investors</th>\n",
       "      <th>Non Instititional</th>\n",
       "      <th>Employee</th>\n",
       "      <th>Total</th>\n",
       "      <th>Listing Day gain</th>\n",
       "    </tr>\n",
       "  </thead>\n",
       "  <tbody>\n",
       "    <tr>\n",
       "      <th>0</th>\n",
       "      <td>Latent  View Analytics Limited</td>\n",
       "      <td>123.84</td>\n",
       "      <td>150.82</td>\n",
       "      <td>881.96</td>\n",
       "      <td>4.03</td>\n",
       "      <td>338.51</td>\n",
       "      <td>148.10</td>\n",
       "    </tr>\n",
       "    <tr>\n",
       "      <th>1</th>\n",
       "      <td>Sapphire Foods India Limited</td>\n",
       "      <td>7.76</td>\n",
       "      <td>7.50</td>\n",
       "      <td>3.46</td>\n",
       "      <td>NaN</td>\n",
       "      <td>6.45</td>\n",
       "      <td>4.04</td>\n",
       "    </tr>\n",
       "    <tr>\n",
       "      <th>2</th>\n",
       "      <td>Paytm</td>\n",
       "      <td>1.72</td>\n",
       "      <td>2.88</td>\n",
       "      <td>0.25</td>\n",
       "      <td>NaN</td>\n",
       "      <td>1.95</td>\n",
       "      <td>-27.44</td>\n",
       "    </tr>\n",
       "    <tr>\n",
       "      <th>3</th>\n",
       "      <td>Policy Bazaar</td>\n",
       "      <td>3.45</td>\n",
       "      <td>27.52</td>\n",
       "      <td>8.15</td>\n",
       "      <td>NaN</td>\n",
       "      <td>17.86</td>\n",
       "      <td>22.68</td>\n",
       "    </tr>\n",
       "    <tr>\n",
       "      <th>4</th>\n",
       "      <td>SJS enterprise limited</td>\n",
       "      <td>1.41</td>\n",
       "      <td>1.45</td>\n",
       "      <td>2.36</td>\n",
       "      <td>NaN</td>\n",
       "      <td>1.63</td>\n",
       "      <td>-5.87</td>\n",
       "    </tr>\n",
       "  </tbody>\n",
       "</table>\n",
       "</div>"
      ],
      "text/plain": [
       "                     Company Name  Retail Investors  Qualified Investors  \\\n",
       "0  Latent  View Analytics Limited            123.84               150.82   \n",
       "1    Sapphire Foods India Limited              7.76                 7.50   \n",
       "2                           Paytm              1.72                 2.88   \n",
       "3                   Policy Bazaar              3.45                27.52   \n",
       "4          SJS enterprise limited              1.41                 1.45   \n",
       "\n",
       "   Non Instititional  Employee   Total  Listing Day gain  \n",
       "0             881.96      4.03  338.51            148.10  \n",
       "1               3.46       NaN    6.45              4.04  \n",
       "2               0.25       NaN    1.95            -27.44  \n",
       "3               8.15       NaN   17.86             22.68  \n",
       "4               2.36       NaN    1.63             -5.87  "
      ]
     },
     "execution_count": 3,
     "metadata": {},
     "output_type": "execute_result"
    }
   ],
   "source": [
    "df.head()"
   ]
  },
  {
   "cell_type": "code",
   "execution_count": 4,
   "id": "6be0c614",
   "metadata": {},
   "outputs": [
    {
     "name": "stdout",
     "output_type": "stream",
     "text": [
      "<class 'pandas.core.frame.DataFrame'>\n",
      "RangeIndex: 60 entries, 0 to 59\n",
      "Data columns (total 7 columns):\n",
      " #   Column               Non-Null Count  Dtype  \n",
      "---  ------               --------------  -----  \n",
      " 0   Company Name         60 non-null     object \n",
      " 1   Retail Investors     60 non-null     float64\n",
      " 2   Qualified Investors  60 non-null     float64\n",
      " 3   Non Instititional    60 non-null     float64\n",
      " 4   Employee             24 non-null     float64\n",
      " 5   Total                60 non-null     float64\n",
      " 6   Listing Day gain     60 non-null     float64\n",
      "dtypes: float64(6), object(1)\n",
      "memory usage: 3.4+ KB\n"
     ]
    }
   ],
   "source": [
    "df.info()"
   ]
  },
  {
   "cell_type": "code",
   "execution_count": 5,
   "id": "3044ec02",
   "metadata": {},
   "outputs": [
    {
     "data": {
      "text/plain": [
       "Company Name            0\n",
       "Retail Investors        0\n",
       "Qualified Investors     0\n",
       "Non Instititional       0\n",
       "Employee               36\n",
       "Total                   0\n",
       "Listing Day gain        0\n",
       "dtype: int64"
      ]
     },
     "execution_count": 5,
     "metadata": {},
     "output_type": "execute_result"
    }
   ],
   "source": [
    "df.isna().sum()"
   ]
  },
  {
   "cell_type": "code",
   "execution_count": 6,
   "id": "a175f87d",
   "metadata": {},
   "outputs": [],
   "source": [
    "df=df.drop('Employee',axis=1)"
   ]
  },
  {
   "cell_type": "code",
   "execution_count": 7,
   "id": "7a8e4f2b",
   "metadata": {},
   "outputs": [
    {
     "data": {
      "text/html": [
       "<div>\n",
       "<style scoped>\n",
       "    .dataframe tbody tr th:only-of-type {\n",
       "        vertical-align: middle;\n",
       "    }\n",
       "\n",
       "    .dataframe tbody tr th {\n",
       "        vertical-align: top;\n",
       "    }\n",
       "\n",
       "    .dataframe thead th {\n",
       "        text-align: right;\n",
       "    }\n",
       "</style>\n",
       "<table border=\"1\" class=\"dataframe\">\n",
       "  <thead>\n",
       "    <tr style=\"text-align: right;\">\n",
       "      <th></th>\n",
       "      <th>Company Name</th>\n",
       "      <th>Retail Investors</th>\n",
       "      <th>Qualified Investors</th>\n",
       "      <th>Non Instititional</th>\n",
       "      <th>Total</th>\n",
       "      <th>Listing Day gain</th>\n",
       "    </tr>\n",
       "  </thead>\n",
       "  <tbody>\n",
       "    <tr>\n",
       "      <th>0</th>\n",
       "      <td>Latent  View Analytics Limited</td>\n",
       "      <td>123.84</td>\n",
       "      <td>150.82</td>\n",
       "      <td>881.96</td>\n",
       "      <td>338.51</td>\n",
       "      <td>148.10</td>\n",
       "    </tr>\n",
       "    <tr>\n",
       "      <th>1</th>\n",
       "      <td>Sapphire Foods India Limited</td>\n",
       "      <td>7.76</td>\n",
       "      <td>7.50</td>\n",
       "      <td>3.46</td>\n",
       "      <td>6.45</td>\n",
       "      <td>4.04</td>\n",
       "    </tr>\n",
       "    <tr>\n",
       "      <th>2</th>\n",
       "      <td>Paytm</td>\n",
       "      <td>1.72</td>\n",
       "      <td>2.88</td>\n",
       "      <td>0.25</td>\n",
       "      <td>1.95</td>\n",
       "      <td>-27.44</td>\n",
       "    </tr>\n",
       "    <tr>\n",
       "      <th>3</th>\n",
       "      <td>Policy Bazaar</td>\n",
       "      <td>3.45</td>\n",
       "      <td>27.52</td>\n",
       "      <td>8.15</td>\n",
       "      <td>17.86</td>\n",
       "      <td>22.68</td>\n",
       "    </tr>\n",
       "    <tr>\n",
       "      <th>4</th>\n",
       "      <td>SJS enterprise limited</td>\n",
       "      <td>1.41</td>\n",
       "      <td>1.45</td>\n",
       "      <td>2.36</td>\n",
       "      <td>1.63</td>\n",
       "      <td>-5.87</td>\n",
       "    </tr>\n",
       "  </tbody>\n",
       "</table>\n",
       "</div>"
      ],
      "text/plain": [
       "                     Company Name  Retail Investors  Qualified Investors  \\\n",
       "0  Latent  View Analytics Limited            123.84               150.82   \n",
       "1    Sapphire Foods India Limited              7.76                 7.50   \n",
       "2                           Paytm              1.72                 2.88   \n",
       "3                   Policy Bazaar              3.45                27.52   \n",
       "4          SJS enterprise limited              1.41                 1.45   \n",
       "\n",
       "   Non Instititional   Total  Listing Day gain  \n",
       "0             881.96  338.51            148.10  \n",
       "1               3.46    6.45              4.04  \n",
       "2               0.25    1.95            -27.44  \n",
       "3               8.15   17.86             22.68  \n",
       "4               2.36    1.63             -5.87  "
      ]
     },
     "execution_count": 7,
     "metadata": {},
     "output_type": "execute_result"
    }
   ],
   "source": [
    "df.head()"
   ]
  },
  {
   "cell_type": "code",
   "execution_count": 8,
   "id": "e2077640",
   "metadata": {},
   "outputs": [
    {
     "data": {
      "image/png": "[encoded data removed]",
      "text/plain": [
       "<Figure size 1080x1080 with 1 Axes>"
      ]
     },
     "metadata": {
      "needs_background": "light"
     },
     "output_type": "display_data"
    }
   ],
   "source": [
    "#which was most successful IPO\n",
    "plt.figure(figsize=(15,15))\n",
    "plt.barh(df.sort_values(by='Listing Day gain')['Company Name'],width=df.sort_values(by='Listing Day gain')['Listing Day gain'])\n",
    "plt.xticks(rotation=90)\n",
    "plt.show()"
   ]
  },
  {
   "cell_type": "code",
   "execution_count": 9,
   "id": "71b2ae65",
   "metadata": {},
   "outputs": [
    {
     "name": "stdout",
     "output_type": "stream",
     "text": [
      "<class 'pandas.core.frame.DataFrame'>\n",
      "RangeIndex: 60 entries, 0 to 59\n",
      "Data columns (total 6 columns):\n",
      " #   Column               Non-Null Count  Dtype  \n",
      "---  ------               --------------  -----  \n",
      " 0   Company Name         60 non-null     object \n",
      " 1   Retail Investors     60 non-null     float64\n",
      " 2   Qualified Investors  60 non-null     float64\n",
      " 3   Non Instititional    60 non-null     float64\n",
      " 4   Total                60 non-null     float64\n",
      " 5   Listing Day gain     60 non-null     float64\n",
      "dtypes: float64(5), object(1)\n",
      "memory usage: 2.9+ KB\n"
     ]
    }
   ],
   "source": [
    "df.info()"
   ]
  },
  {
   "cell_type": "code",
   "execution_count": 10,
   "id": "fb542bdb",
   "metadata": {},
   "outputs": [
    {
     "data": {
      "text/plain": [
       "['Retail Investors',\n",
       " 'Qualified Investors',\n",
       " 'Non Instititional',\n",
       " 'Total',\n",
       " 'Listing Day gain']"
      ]
     },
     "execution_count": 10,
     "metadata": {},
     "output_type": "execute_result"
    }
   ],
   "source": [
    "#Storing numeric columns in a variable\n",
    "columns_numeric=[i for i in df.columns if df[i].dtype!='object']\n",
    "columns_numeric"
   ]
  },
  {
   "cell_type": "code",
   "execution_count": 11,
   "id": "f983f0f3",
   "metadata": {
    "scrolled": false
   },
   "outputs": [
    {
     "data": {
      "image/png": "[encoded data removed]",
      "text/plain": [
       "<Figure size 1440x360 with 5 Axes>"
      ]
     },
     "metadata": {
      "needs_background": "light"
     },
     "output_type": "display_data"
    }
   ],
   "source": [
    "#Finding outliers\n",
    "plt.figure(figsize=(20,5))\n",
    "for j,i in enumerate(columns_numeric):\n",
    "    plt.subplot(1,5,j+1)\n",
    "    sns.boxplot(y=df[i])\n",
    "    plt.tight_layout()\n",
    "    \n",
    "plt.show()"
   ]
  },
  {
   "cell_type": "code",
   "execution_count": 12,
   "id": "1fbaf8b7",
   "metadata": {
    "scrolled": true
   },
   "outputs": [
    {
     "data": {
      "text/html": [
       "<div>\n",
       "<style scoped>\n",
       "    .dataframe tbody tr th:only-of-type {\n",
       "        vertical-align: middle;\n",
       "    }\n",
       "\n",
       "    .dataframe tbody tr th {\n",
       "        vertical-align: top;\n",
       "    }\n",
       "\n",
       "    .dataframe thead th {\n",
       "        text-align: right;\n",
       "    }\n",
       "</style>\n",
       "<table border=\"1\" class=\"dataframe\">\n",
       "  <thead>\n",
       "    <tr style=\"text-align: right;\">\n",
       "      <th></th>\n",
       "      <th>Company Name</th>\n",
       "      <th>Retail Investors</th>\n",
       "      <th>Qualified Investors</th>\n",
       "      <th>Non Instititional</th>\n",
       "      <th>Total</th>\n",
       "      <th>Listing Day gain</th>\n",
       "    </tr>\n",
       "  </thead>\n",
       "  <tbody>\n",
       "    <tr>\n",
       "      <th>0</th>\n",
       "      <td>Latent  View Analytics Limited</td>\n",
       "      <td>123.84</td>\n",
       "      <td>150.82</td>\n",
       "      <td>881.96</td>\n",
       "      <td>338.51</td>\n",
       "      <td>148.10</td>\n",
       "    </tr>\n",
       "    <tr>\n",
       "      <th>9</th>\n",
       "      <td>Paras Space and Defence</td>\n",
       "      <td>118.44</td>\n",
       "      <td>175.39</td>\n",
       "      <td>973.99</td>\n",
       "      <td>318.04</td>\n",
       "      <td>181.40</td>\n",
       "    </tr>\n",
       "    <tr>\n",
       "      <th>23</th>\n",
       "      <td>Tatva Chintan Pharma Chem Ltd</td>\n",
       "      <td>35.68</td>\n",
       "      <td>186.96</td>\n",
       "      <td>516.96</td>\n",
       "      <td>182.04</td>\n",
       "      <td>113.50</td>\n",
       "    </tr>\n",
       "    <tr>\n",
       "      <th>41</th>\n",
       "      <td>MTAR Technologies Ltd</td>\n",
       "      <td>28.40</td>\n",
       "      <td>164.99</td>\n",
       "      <td>650.79</td>\n",
       "      <td>200.79</td>\n",
       "      <td>87.62</td>\n",
       "    </tr>\n",
       "  </tbody>\n",
       "</table>\n",
       "</div>"
      ],
      "text/plain": [
       "                      Company Name  Retail Investors  Qualified Investors  \\\n",
       "0   Latent  View Analytics Limited            123.84               150.82   \n",
       "9          Paras Space and Defence            118.44               175.39   \n",
       "23   Tatva Chintan Pharma Chem Ltd             35.68               186.96   \n",
       "41           MTAR Technologies Ltd             28.40               164.99   \n",
       "\n",
       "    Non Instititional   Total  Listing Day gain  \n",
       "0              881.96  338.51            148.10  \n",
       "9              973.99  318.04            181.40  \n",
       "23             516.96  182.04            113.50  \n",
       "41             650.79  200.79             87.62  "
      ]
     },
     "execution_count": 12,
     "metadata": {},
     "output_type": "execute_result"
    }
   ],
   "source": [
    "#outliers in Non Instititional\n",
    "df.iloc[np.where(df['Non Instititional']>400)[0]]"
   ]
  },
  {
   "cell_type": "code",
   "execution_count": 13,
   "id": "06ec40fe",
   "metadata": {},
   "outputs": [
    {
     "data": {
      "text/html": [
       "<div>\n",
       "<style scoped>\n",
       "    .dataframe tbody tr th:only-of-type {\n",
       "        vertical-align: middle;\n",
       "    }\n",
       "\n",
       "    .dataframe tbody tr th {\n",
       "        vertical-align: top;\n",
       "    }\n",
       "\n",
       "    .dataframe thead th {\n",
       "        text-align: right;\n",
       "    }\n",
       "</style>\n",
       "<table border=\"1\" class=\"dataframe\">\n",
       "  <thead>\n",
       "    <tr style=\"text-align: right;\">\n",
       "      <th></th>\n",
       "      <th>Company Name</th>\n",
       "      <th>Retail Investors</th>\n",
       "      <th>Qualified Investors</th>\n",
       "      <th>Non Instititional</th>\n",
       "      <th>Total</th>\n",
       "      <th>Listing Day gain</th>\n",
       "    </tr>\n",
       "  </thead>\n",
       "  <tbody>\n",
       "    <tr>\n",
       "      <th>0</th>\n",
       "      <td>Latent  View Analytics Limited</td>\n",
       "      <td>123.84</td>\n",
       "      <td>150.82</td>\n",
       "      <td>881.96</td>\n",
       "      <td>338.51</td>\n",
       "      <td>148.10</td>\n",
       "    </tr>\n",
       "    <tr>\n",
       "      <th>5</th>\n",
       "      <td>Sigachi Industries Limited</td>\n",
       "      <td>80.49</td>\n",
       "      <td>86.51</td>\n",
       "      <td>172.43</td>\n",
       "      <td>101.91</td>\n",
       "      <td>267.18</td>\n",
       "    </tr>\n",
       "    <tr>\n",
       "      <th>9</th>\n",
       "      <td>Paras Space and Defence</td>\n",
       "      <td>118.44</td>\n",
       "      <td>175.39</td>\n",
       "      <td>973.99</td>\n",
       "      <td>318.04</td>\n",
       "      <td>181.40</td>\n",
       "    </tr>\n",
       "    <tr>\n",
       "      <th>36</th>\n",
       "      <td>Nazara Technologies Ltd</td>\n",
       "      <td>75.29</td>\n",
       "      <td>103.77</td>\n",
       "      <td>389.89</td>\n",
       "      <td>175.46</td>\n",
       "      <td>44.60</td>\n",
       "    </tr>\n",
       "    <tr>\n",
       "      <th>44</th>\n",
       "      <td>Nureca Ltd</td>\n",
       "      <td>166.65</td>\n",
       "      <td>3.10</td>\n",
       "      <td>31.59</td>\n",
       "      <td>39.93</td>\n",
       "      <td>61.44</td>\n",
       "    </tr>\n",
       "  </tbody>\n",
       "</table>\n",
       "</div>"
      ],
      "text/plain": [
       "                      Company Name  Retail Investors  Qualified Investors  \\\n",
       "0   Latent  View Analytics Limited            123.84               150.82   \n",
       "5       Sigachi Industries Limited             80.49                86.51   \n",
       "9          Paras Space and Defence            118.44               175.39   \n",
       "36         Nazara Technologies Ltd             75.29               103.77   \n",
       "44                      Nureca Ltd            166.65                 3.10   \n",
       "\n",
       "    Non Instititional   Total  Listing Day gain  \n",
       "0              881.96  338.51            148.10  \n",
       "5              172.43  101.91            267.18  \n",
       "9              973.99  318.04            181.40  \n",
       "36             389.89  175.46             44.60  \n",
       "44              31.59   39.93             61.44  "
      ]
     },
     "execution_count": 13,
     "metadata": {},
     "output_type": "execute_result"
    }
   ],
   "source": [
    "#outliers in Retail Investors\n",
    "df.iloc[np.where(df['Retail Investors']>75)[0]]"
   ]
  },
  {
   "cell_type": "code",
   "execution_count": 14,
   "id": "3492c6d8",
   "metadata": {},
   "outputs": [
    {
     "data": {
      "text/html": [
       "<div>\n",
       "<style scoped>\n",
       "    .dataframe tbody tr th:only-of-type {\n",
       "        vertical-align: middle;\n",
       "    }\n",
       "\n",
       "    .dataframe tbody tr th {\n",
       "        vertical-align: top;\n",
       "    }\n",
       "\n",
       "    .dataframe thead th {\n",
       "        text-align: right;\n",
       "    }\n",
       "</style>\n",
       "<table border=\"1\" class=\"dataframe\">\n",
       "  <thead>\n",
       "    <tr style=\"text-align: right;\">\n",
       "      <th></th>\n",
       "      <th>Company Name</th>\n",
       "      <th>Retail Investors</th>\n",
       "      <th>Qualified Investors</th>\n",
       "      <th>Non Instititional</th>\n",
       "      <th>Total</th>\n",
       "      <th>Listing Day gain</th>\n",
       "    </tr>\n",
       "  </thead>\n",
       "  <tbody>\n",
       "    <tr>\n",
       "      <th>0</th>\n",
       "      <td>Latent  View Analytics Limited</td>\n",
       "      <td>123.84</td>\n",
       "      <td>150.82</td>\n",
       "      <td>881.96</td>\n",
       "      <td>338.51</td>\n",
       "      <td>148.10</td>\n",
       "    </tr>\n",
       "    <tr>\n",
       "      <th>5</th>\n",
       "      <td>Sigachi Industries Limited</td>\n",
       "      <td>80.49</td>\n",
       "      <td>86.51</td>\n",
       "      <td>172.43</td>\n",
       "      <td>101.91</td>\n",
       "      <td>267.18</td>\n",
       "    </tr>\n",
       "    <tr>\n",
       "      <th>9</th>\n",
       "      <td>Paras Space and Defence</td>\n",
       "      <td>118.44</td>\n",
       "      <td>175.39</td>\n",
       "      <td>973.99</td>\n",
       "      <td>318.04</td>\n",
       "      <td>181.40</td>\n",
       "    </tr>\n",
       "    <tr>\n",
       "      <th>49</th>\n",
       "      <td>Burger King</td>\n",
       "      <td>68.15</td>\n",
       "      <td>86.64</td>\n",
       "      <td>354.11</td>\n",
       "      <td>156.65</td>\n",
       "      <td>130.70</td>\n",
       "    </tr>\n",
       "  </tbody>\n",
       "</table>\n",
       "</div>"
      ],
      "text/plain": [
       "                      Company Name  Retail Investors  Qualified Investors  \\\n",
       "0   Latent  View Analytics Limited            123.84               150.82   \n",
       "5       Sigachi Industries Limited             80.49                86.51   \n",
       "9          Paras Space and Defence            118.44               175.39   \n",
       "49                     Burger King             68.15                86.64   \n",
       "\n",
       "    Non Instititional   Total  Listing Day gain  \n",
       "0              881.96  338.51            148.10  \n",
       "5              172.43  101.91            267.18  \n",
       "9              973.99  318.04            181.40  \n",
       "49             354.11  156.65            130.70  "
      ]
     },
     "execution_count": 14,
     "metadata": {},
     "output_type": "execute_result"
    }
   ],
   "source": [
    "#outliers in Listing Day gain column\n",
    "df.iloc[np.where(df['Listing Day gain']>120)[0]]"
   ]
  },
  {
   "cell_type": "code",
   "execution_count": 15,
   "id": "cf3b82b4",
   "metadata": {
    "scrolled": true
   },
   "outputs": [
    {
     "data": {
      "text/plain": [
       "<AxesSubplot:>"
      ]
     },
     "execution_count": 15,
     "metadata": {},
     "output_type": "execute_result"
    },
    {
     "data": {
      "image/png": "[encoded data removed]",
      "text/plain": [
       "<Figure size 432x288 with 2 Axes>"
      ]
     },
     "metadata": {
      "needs_background": "light"
     },
     "output_type": "display_data"
    }
   ],
   "source": [
    "sns.heatmap(df.corr(),annot=True)"
   ]
  },
  {
   "cell_type": "code",
   "execution_count": 16,
   "id": "0e8ce6b9",
   "metadata": {},
   "outputs": [
    {
     "data": {
      "text/plain": [
       "[0, 9, 23, 41, 0, 5, 9, 36, 44]"
      ]
     },
     "execution_count": 16,
     "metadata": {},
     "output_type": "execute_result"
    }
   ],
   "source": [
    "#since non institutional investors has highest correlation with listing day gains hence removing outliers of this column and some of retail investors column\n",
    "drop_index_NI = list(df.iloc[np.where(df['Non Instititional']>400)[0]].index)\n",
    "drop_index_RI=list(df.iloc[np.where(df['Retail Investors']>75)[0]].index)\n",
    "\n",
    "drop_index=drop_index_NI+drop_index_RI\n",
    "\n",
    "drop_index"
   ]
  },
  {
   "cell_type": "code",
   "execution_count": 17,
   "id": "5f947a96",
   "metadata": {},
   "outputs": [],
   "source": [
    "df=df.drop(index=drop_index)"
   ]
  },
  {
   "cell_type": "code",
   "execution_count": 18,
   "id": "d05c9c43",
   "metadata": {},
   "outputs": [
    {
     "data": {
      "image/png": "[encoded data removed]",
      "text/plain": [
       "<Figure size 1440x360 with 5 Axes>"
      ]
     },
     "metadata": {
      "needs_background": "light"
     },
     "output_type": "display_data"
    }
   ],
   "source": [
    "plt.figure(figsize=(20,5))\n",
    "for j,i in enumerate(columns_numeric):\n",
    "    plt.subplot(1,5,j+1)\n",
    "    sns.boxplot(y=df[i])\n",
    "    plt.tight_layout()\n",
    "    \n",
    "plt.show()"
   ]
  },
  {
   "cell_type": "code",
   "execution_count": 19,
   "id": "1d73becb",
   "metadata": {},
   "outputs": [],
   "source": [
    "#dropping company naame\n",
    "df=df.drop('Company Name',axis=1)"
   ]
  },
  {
   "cell_type": "code",
   "execution_count": 20,
   "id": "a7d67750",
   "metadata": {},
   "outputs": [],
   "source": [
    "#defining X and y\n",
    "X=df.drop('Listing Day gain',axis=1)\n",
    "y=df['Listing Day gain']"
   ]
  },
  {
   "cell_type": "code",
   "execution_count": 21,
   "id": "d3cfdc26",
   "metadata": {},
   "outputs": [],
   "source": [
    "from sklearn.ensemble import ExtraTreesRegressor"
   ]
  },
  {
   "cell_type": "code",
   "execution_count": 22,
   "id": "1e9403df",
   "metadata": {},
   "outputs": [
    {
     "data": {
      "text/plain": [
       "ExtraTreesRegressor()"
      ]
     },
     "execution_count": 22,
     "metadata": {},
     "output_type": "execute_result"
    }
   ],
   "source": [
    "model_etr=ExtraTreesRegressor()\n",
    "\n",
    "model_etr.fit(X,y)"
   ]
  },
  {
   "cell_type": "code",
   "execution_count": 23,
   "id": "6818c6c4",
   "metadata": {},
   "outputs": [
    {
     "name": "stdout",
     "output_type": "stream",
     "text": [
      "[0.12289088 0.31507542 0.20516269 0.35687102]\n"
     ]
    }
   ],
   "source": [
    "print(model_etr.feature_importances_)"
   ]
  },
  {
   "cell_type": "code",
   "execution_count": 24,
   "id": "fa92869e",
   "metadata": {},
   "outputs": [
    {
     "data": {
      "text/plain": [
       "<BarContainer object of 4 artists>"
      ]
     },
     "execution_count": 24,
     "metadata": {},
     "output_type": "execute_result"
    },
    {
     "data": {
      "image/png": "[encoded data removed]",
      "text/plain": [
       "<Figure size 720x720 with 1 Axes>"
      ]
     },
     "metadata": {
      "needs_background": "light"
     },
     "output_type": "display_data"
    }
   ],
   "source": [
    "plt.figure(figsize=(10,10))\n",
    "plt.bar(x=X.columns,height=model_etr.feature_importances_)"
   ]
  },
  {
   "cell_type": "code",
   "execution_count": 25,
   "id": "84277b8d",
   "metadata": {},
   "outputs": [],
   "source": [
    "#Total subscription status is higly correlated to all hence dropping this column\n",
    "X.drop('Total',axis=1,inplace=True)"
   ]
  },
  {
   "cell_type": "code",
   "execution_count": 26,
   "id": "61926f90",
   "metadata": {},
   "outputs": [],
   "source": [
    "#Making train and test split\n",
    "from sklearn.model_selection import train_test_split\n",
    "\n",
    "X_train,X_test,y_train,y_test=train_test_split(X,y,random_state=42,test_size=.2)"
   ]
  },
  {
   "cell_type": "code",
   "execution_count": 27,
   "id": "2d2aecc5",
   "metadata": {},
   "outputs": [
    {
     "data": {
      "text/html": [
       "<div>\n",
       "<style scoped>\n",
       "    .dataframe tbody tr th:only-of-type {\n",
       "        vertical-align: middle;\n",
       "    }\n",
       "\n",
       "    .dataframe tbody tr th {\n",
       "        vertical-align: top;\n",
       "    }\n",
       "\n",
       "    .dataframe thead th {\n",
       "        text-align: right;\n",
       "    }\n",
       "</style>\n",
       "<table border=\"1\" class=\"dataframe\">\n",
       "  <thead>\n",
       "    <tr style=\"text-align: right;\">\n",
       "      <th></th>\n",
       "      <th>Retail Investors</th>\n",
       "      <th>Qualified Investors</th>\n",
       "      <th>Non Instititional</th>\n",
       "    </tr>\n",
       "  </thead>\n",
       "  <tbody>\n",
       "    <tr>\n",
       "      <th>11</th>\n",
       "      <td>1.09</td>\n",
       "      <td>13.07</td>\n",
       "      <td>1.32</td>\n",
       "    </tr>\n",
       "    <tr>\n",
       "      <th>30</th>\n",
       "      <td>11.64</td>\n",
       "      <td>153.45</td>\n",
       "      <td>339.98</td>\n",
       "    </tr>\n",
       "    <tr>\n",
       "      <th>8</th>\n",
       "      <td>3.24</td>\n",
       "      <td>10.36</td>\n",
       "      <td>4.39</td>\n",
       "    </tr>\n",
       "    <tr>\n",
       "      <th>39</th>\n",
       "      <td>10.77</td>\n",
       "      <td>65.74</td>\n",
       "      <td>97.42</td>\n",
       "    </tr>\n",
       "    <tr>\n",
       "      <th>6</th>\n",
       "      <td>5.92</td>\n",
       "      <td>1.65</td>\n",
       "      <td>0.21</td>\n",
       "    </tr>\n",
       "    <tr>\n",
       "      <th>43</th>\n",
       "      <td>16.78</td>\n",
       "      <td>65.14</td>\n",
       "      <td>73.25</td>\n",
       "    </tr>\n",
       "    <tr>\n",
       "      <th>28</th>\n",
       "      <td>11.34</td>\n",
       "      <td>84.88</td>\n",
       "      <td>73.26</td>\n",
       "    </tr>\n",
       "    <tr>\n",
       "      <th>51</th>\n",
       "      <td>4.22</td>\n",
       "      <td>98.68</td>\n",
       "      <td>21.86</td>\n",
       "    </tr>\n",
       "    <tr>\n",
       "      <th>38</th>\n",
       "      <td>20.10</td>\n",
       "      <td>175.43</td>\n",
       "      <td>217.62</td>\n",
       "    </tr>\n",
       "    <tr>\n",
       "      <th>56</th>\n",
       "      <td>18.52</td>\n",
       "      <td>187.34</td>\n",
       "      <td>74.96</td>\n",
       "    </tr>\n",
       "    <tr>\n",
       "      <th>18</th>\n",
       "      <td>24.54</td>\n",
       "      <td>24.10</td>\n",
       "      <td>15.91</td>\n",
       "    </tr>\n",
       "    <tr>\n",
       "      <th>12</th>\n",
       "      <td>13.42</td>\n",
       "      <td>86.02</td>\n",
       "      <td>155.44</td>\n",
       "    </tr>\n",
       "    <tr>\n",
       "      <th>19</th>\n",
       "      <td>42.04</td>\n",
       "      <td>49.83</td>\n",
       "      <td>116.30</td>\n",
       "    </tr>\n",
       "    <tr>\n",
       "      <th>34</th>\n",
       "      <td>2.82</td>\n",
       "      <td>2.76</td>\n",
       "      <td>1.91</td>\n",
       "    </tr>\n",
       "    <tr>\n",
       "      <th>42</th>\n",
       "      <td>11.84</td>\n",
       "      <td>67.45</td>\n",
       "      <td>271.15</td>\n",
       "    </tr>\n",
       "    <tr>\n",
       "      <th>29</th>\n",
       "      <td>2.90</td>\n",
       "      <td>5.26</td>\n",
       "      <td>1.89</td>\n",
       "    </tr>\n",
       "    <tr>\n",
       "      <th>14</th>\n",
       "      <td>2.34</td>\n",
       "      <td>2.75</td>\n",
       "      <td>1.05</td>\n",
       "    </tr>\n",
       "    <tr>\n",
       "      <th>1</th>\n",
       "      <td>7.76</td>\n",
       "      <td>7.50</td>\n",
       "      <td>3.46</td>\n",
       "    </tr>\n",
       "    <tr>\n",
       "      <th>53</th>\n",
       "      <td>64.91</td>\n",
       "      <td>95.02</td>\n",
       "      <td>46.21</td>\n",
       "    </tr>\n",
       "    <tr>\n",
       "      <th>31</th>\n",
       "      <td>1.58</td>\n",
       "      <td>3.46</td>\n",
       "      <td>0.39</td>\n",
       "    </tr>\n",
       "    <tr>\n",
       "      <th>35</th>\n",
       "      <td>13.13</td>\n",
       "      <td>5.11</td>\n",
       "      <td>3.10</td>\n",
       "    </tr>\n",
       "    <tr>\n",
       "      <th>46</th>\n",
       "      <td>6.59</td>\n",
       "      <td>52.53</td>\n",
       "      <td>39.00</td>\n",
       "    </tr>\n",
       "    <tr>\n",
       "      <th>33</th>\n",
       "      <td>0.40</td>\n",
       "      <td>3.05</td>\n",
       "      <td>1.44</td>\n",
       "    </tr>\n",
       "    <tr>\n",
       "      <th>52</th>\n",
       "      <td>0.89</td>\n",
       "      <td>29.51</td>\n",
       "      <td>4.07</td>\n",
       "    </tr>\n",
       "    <tr>\n",
       "      <th>2</th>\n",
       "      <td>1.72</td>\n",
       "      <td>2.88</td>\n",
       "      <td>0.25</td>\n",
       "    </tr>\n",
       "    <tr>\n",
       "      <th>25</th>\n",
       "      <td>12.57</td>\n",
       "      <td>168.58</td>\n",
       "      <td>238.04</td>\n",
       "    </tr>\n",
       "    <tr>\n",
       "      <th>3</th>\n",
       "      <td>3.45</td>\n",
       "      <td>27.52</td>\n",
       "      <td>8.15</td>\n",
       "    </tr>\n",
       "    <tr>\n",
       "      <th>47</th>\n",
       "      <td>3.66</td>\n",
       "      <td>3.78</td>\n",
       "      <td>2.67</td>\n",
       "    </tr>\n",
       "    <tr>\n",
       "      <th>40</th>\n",
       "      <td>70.40</td>\n",
       "      <td>77.53</td>\n",
       "      <td>382.21</td>\n",
       "    </tr>\n",
       "    <tr>\n",
       "      <th>27</th>\n",
       "      <td>11.30</td>\n",
       "      <td>42.95</td>\n",
       "      <td>51.88</td>\n",
       "    </tr>\n",
       "    <tr>\n",
       "      <th>55</th>\n",
       "      <td>4.87</td>\n",
       "      <td>1.66</td>\n",
       "      <td>0.80</td>\n",
       "    </tr>\n",
       "    <tr>\n",
       "      <th>13</th>\n",
       "      <td>1.35</td>\n",
       "      <td>32.41</td>\n",
       "      <td>33.91</td>\n",
       "    </tr>\n",
       "    <tr>\n",
       "      <th>26</th>\n",
       "      <td>9.20</td>\n",
       "      <td>159.93</td>\n",
       "      <td>211.12</td>\n",
       "    </tr>\n",
       "    <tr>\n",
       "      <th>21</th>\n",
       "      <td>24.49</td>\n",
       "      <td>143.58</td>\n",
       "      <td>360.11</td>\n",
       "    </tr>\n",
       "    <tr>\n",
       "      <th>59</th>\n",
       "      <td>4.63</td>\n",
       "      <td>67.14</td>\n",
       "      <td>17.86</td>\n",
       "    </tr>\n",
       "    <tr>\n",
       "      <th>24</th>\n",
       "      <td>7.87</td>\n",
       "      <td>54.71</td>\n",
       "      <td>34.80</td>\n",
       "    </tr>\n",
       "    <tr>\n",
       "      <th>10</th>\n",
       "      <td>3.15</td>\n",
       "      <td>26.47</td>\n",
       "      <td>11.37</td>\n",
       "    </tr>\n",
       "    <tr>\n",
       "      <th>49</th>\n",
       "      <td>68.15</td>\n",
       "      <td>86.64</td>\n",
       "      <td>354.11</td>\n",
       "    </tr>\n",
       "    <tr>\n",
       "      <th>17</th>\n",
       "      <td>39.52</td>\n",
       "      <td>95.27</td>\n",
       "      <td>213.06</td>\n",
       "    </tr>\n",
       "    <tr>\n",
       "      <th>32</th>\n",
       "      <td>3.09</td>\n",
       "      <td>2.18</td>\n",
       "      <td>1.31</td>\n",
       "    </tr>\n",
       "    <tr>\n",
       "      <th>58</th>\n",
       "      <td>5.01</td>\n",
       "      <td>1.12</td>\n",
       "      <td>0.50</td>\n",
       "    </tr>\n",
       "    <tr>\n",
       "      <th>45</th>\n",
       "      <td>26.04</td>\n",
       "      <td>8.02</td>\n",
       "      <td>32.72</td>\n",
       "    </tr>\n",
       "  </tbody>\n",
       "</table>\n",
       "</div>"
      ],
      "text/plain": [
       "    Retail Investors  Qualified Investors  Non Instititional\n",
       "11              1.09                13.07               1.32\n",
       "30             11.64               153.45             339.98\n",
       "8               3.24                10.36               4.39\n",
       "39             10.77                65.74              97.42\n",
       "6               5.92                 1.65               0.21\n",
       "43             16.78                65.14              73.25\n",
       "28             11.34                84.88              73.26\n",
       "51              4.22                98.68              21.86\n",
       "38             20.10               175.43             217.62\n",
       "56             18.52               187.34              74.96\n",
       "18             24.54                24.10              15.91\n",
       "12             13.42                86.02             155.44\n",
       "19             42.04                49.83             116.30\n",
       "34              2.82                 2.76               1.91\n",
       "42             11.84                67.45             271.15\n",
       "29              2.90                 5.26               1.89\n",
       "14              2.34                 2.75               1.05\n",
       "1               7.76                 7.50               3.46\n",
       "53             64.91                95.02              46.21\n",
       "31              1.58                 3.46               0.39\n",
       "35             13.13                 5.11               3.10\n",
       "46              6.59                52.53              39.00\n",
       "33              0.40                 3.05               1.44\n",
       "52              0.89                29.51               4.07\n",
       "2               1.72                 2.88               0.25\n",
       "25             12.57               168.58             238.04\n",
       "3               3.45                27.52               8.15\n",
       "47              3.66                 3.78               2.67\n",
       "40             70.40                77.53             382.21\n",
       "27             11.30                42.95              51.88\n",
       "55              4.87                 1.66               0.80\n",
       "13              1.35                32.41              33.91\n",
       "26              9.20               159.93             211.12\n",
       "21             24.49               143.58             360.11\n",
       "59              4.63                67.14              17.86\n",
       "24              7.87                54.71              34.80\n",
       "10              3.15                26.47              11.37\n",
       "49             68.15                86.64             354.11\n",
       "17             39.52                95.27             213.06\n",
       "32              3.09                 2.18               1.31\n",
       "58              5.01                 1.12               0.50\n",
       "45             26.04                 8.02              32.72"
      ]
     },
     "execution_count": 27,
     "metadata": {},
     "output_type": "execute_result"
    }
   ],
   "source": [
    "X_train"
   ]
  },
  {
   "cell_type": "code",
   "execution_count": 28,
   "id": "473d1046",
   "metadata": {},
   "outputs": [],
   "source": [
    "#preparing scaled training and testing data\n",
    "\n",
    "from sklearn.preprocessing import MinMaxScaler\n",
    "\n",
    "scaler=MinMaxScaler()\n",
    "\n",
    "X_train_scaled=scaler.fit_transform(X_train)\n",
    "X_test_scaled=scaler.transform(X_test)"
   ]
  },
  {
   "cell_type": "code",
   "execution_count": 29,
   "id": "75ceaf27",
   "metadata": {},
   "outputs": [],
   "source": [
    "from sklearn.metrics import r2_score,mean_squared_error"
   ]
  },
  {
   "cell_type": "code",
   "execution_count": 30,
   "id": "8754190b",
   "metadata": {},
   "outputs": [],
   "source": [
    "def evaluation_metrics(y_test,y_preds):\n",
    "    \n",
    "    #to compare all results later\n",
    "    my_dict={}\n",
    "    my_dict={\"MSE\":mean_squared_error(y_test,y_preds),\n",
    "                   \"RMSE\":np.sqrt(mean_squared_error(y_test,y_preds)),\n",
    "                   \"R2 score\":r2_score(y_test,y_preds)}\n",
    "    \n",
    "    return my_dict"
   ]
  },
  {
   "cell_type": "code",
   "execution_count": 31,
   "id": "1c731eba",
   "metadata": {},
   "outputs": [],
   "source": [
    "def actual_vs_predicted(y_test,y_preds,model):\n",
    "    #for plotting\n",
    "    x_ax = range(len(y_test))\n",
    "    plt.plot(x_ax, y_test, label=\"original\")\n",
    "    plt.plot(x_ax, y_preds, label=\"predicted\")\n",
    "    plt.title(f\"{model} test and predicted data\")\n",
    "    plt.legend()\n",
    "    plt.show()\n",
    "    "
   ]
  },
  {
   "cell_type": "code",
   "execution_count": 32,
   "id": "dd6ce4da",
   "metadata": {},
   "outputs": [],
   "source": [
    "#trying below models and find which once works best\n",
    "\n",
    "# 1. RandomForestRegressor\n",
    "# 2. Xgbooost\n",
    "# 3. Catboost\n",
    "# 4. Adaboost\n",
    "# 5. Neural network\n",
    "# 6. MLPRegressor"
   ]
  },
  {
   "cell_type": "markdown",
   "id": "c26feabc",
   "metadata": {},
   "source": [
    "RandomForest"
   ]
  },
  {
   "cell_type": "code",
   "execution_count": 33,
   "id": "49e10e1c",
   "metadata": {},
   "outputs": [
    {
     "data": {
      "text/plain": [
       "RandomForestRegressor(n_estimators=275)"
      ]
     },
     "execution_count": 33,
     "metadata": {},
     "output_type": "execute_result"
    }
   ],
   "source": [
    "from sklearn.ensemble import RandomForestRegressor\n",
    "\n",
    "model_1=RandomForestRegressor(n_estimators=275)\n",
    "\n",
    "model_1.fit(X_train,y_train)"
   ]
  },
  {
   "cell_type": "code",
   "execution_count": 34,
   "id": "13810ef1",
   "metadata": {},
   "outputs": [],
   "source": [
    "y_preds_1=model_1.predict(X_test)"
   ]
  },
  {
   "cell_type": "code",
   "execution_count": 35,
   "id": "364ea1cd",
   "metadata": {},
   "outputs": [],
   "source": [
    "evaluation_dict=dict()"
   ]
  },
  {
   "cell_type": "code",
   "execution_count": 36,
   "id": "a1724229",
   "metadata": {},
   "outputs": [
    {
     "data": {
      "text/plain": [
       "{'MSE': 543.8817698606159,\n",
       " 'RMSE': 23.321272903952217,\n",
       " 'R2 score': 0.6619819206919049}"
      ]
     },
     "execution_count": 36,
     "metadata": {},
     "output_type": "execute_result"
    }
   ],
   "source": [
    "evaluation_dict['RandomForest']=evaluation_metrics(y_test,y_preds_1)\n",
    "evaluation_dict['RandomForest']"
   ]
  },
  {
   "cell_type": "code",
   "execution_count": 37,
   "id": "abfd711b",
   "metadata": {},
   "outputs": [
    {
     "data": {
      "image/png": "[encoded data removed]",
      "text/plain": [
       "<Figure size 432x288 with 1 Axes>"
      ]
     },
     "metadata": {
      "needs_background": "light"
     },
     "output_type": "display_data"
    }
   ],
   "source": [
    "actual_vs_predicted(y_test,y_preds_1,'RandomForest')"
   ]
  },
  {
   "cell_type": "markdown",
   "id": "65b8283d",
   "metadata": {},
   "source": [
    "XGboost"
   ]
  },
  {
   "cell_type": "code",
   "execution_count": 38,
   "id": "a15a2a37",
   "metadata": {},
   "outputs": [],
   "source": [
    "import xgboost as xg"
   ]
  },
  {
   "cell_type": "code",
   "execution_count": 39,
   "id": "1ab42cd2",
   "metadata": {},
   "outputs": [],
   "source": [
    "model_2= xg.XGBRegressor(learning_rate=.1,n_jobs=1)"
   ]
  },
  {
   "cell_type": "code",
   "execution_count": 40,
   "id": "f251d19d",
   "metadata": {},
   "outputs": [
    {
     "data": {
      "text/plain": [
       "XGBRegressor(base_score=0.5, booster='gbtree', callbacks=None,\n",
       "             colsample_bylevel=1, colsample_bynode=1, colsample_bytree=1,\n",
       "             early_stopping_rounds=None, enable_categorical=False,\n",
       "             eval_metric=None, gamma=0, gpu_id=-1, grow_policy='depthwise',\n",
       "             importance_type=None, interaction_constraints='',\n",
       "             learning_rate=0.1, max_bin=256, max_cat_to_onehot=4,\n",
       "             max_delta_step=0, max_depth=6, max_leaves=0, min_child_weight=1,\n",
       "             missing=nan, monotone_constraints='()', n_estimators=100, n_jobs=1,\n",
       "             num_parallel_tree=1, predictor='auto', random_state=0, reg_alpha=0,\n",
       "             reg_lambda=1, ...)"
      ]
     },
     "execution_count": 40,
     "metadata": {},
     "output_type": "execute_result"
    }
   ],
   "source": [
    "model_2.fit(X_train,y_train)"
   ]
  },
  {
   "cell_type": "code",
   "execution_count": 41,
   "id": "cebf988a",
   "metadata": {},
   "outputs": [],
   "source": [
    "y_preds_2=model_2.predict(X_test)"
   ]
  },
  {
   "cell_type": "code",
   "execution_count": 42,
   "id": "6dc9c397",
   "metadata": {},
   "outputs": [
    {
     "data": {
      "text/plain": [
       "{'MSE': 480.2126973943177,\n",
       " 'RMSE': 21.913755894285163,\n",
       " 'R2 score': 0.7015517293874629}"
      ]
     },
     "execution_count": 42,
     "metadata": {},
     "output_type": "execute_result"
    }
   ],
   "source": [
    "evaluation_dict['Xgboost']=evaluation_metrics(y_test,y_preds_2)\n",
    "evaluation_dict['Xgboost']"
   ]
  },
  {
   "cell_type": "code",
   "execution_count": 43,
   "id": "008dd6ab",
   "metadata": {},
   "outputs": [
    {
     "data": {
      "image/png": "[encoded data removed]",
      "text/plain": [
       "<Figure size 432x288 with 1 Axes>"
      ]
     },
     "metadata": {
      "needs_background": "light"
     },
     "output_type": "display_data"
    }
   ],
   "source": [
    "actual_vs_predicted(y_test,y_preds_2,'Xgboost')"
   ]
  },
  {
   "cell_type": "code",
   "execution_count": 44,
   "id": "8050a4ec",
   "metadata": {},
   "outputs": [],
   "source": [
    "from xgboost import XGBRFRegressor"
   ]
  },
  {
   "cell_type": "code",
   "execution_count": 45,
   "id": "a7324bde",
   "metadata": {},
   "outputs": [],
   "source": [
    "model_test=XGBRFRegressor()"
   ]
  },
  {
   "cell_type": "code",
   "execution_count": 46,
   "id": "9cfa78b7",
   "metadata": {},
   "outputs": [
    {
     "data": {
      "text/plain": [
       "XGBRFRegressor(base_score=0.5, booster='gbtree', callbacks=None,\n",
       "               colsample_bylevel=1, colsample_bytree=1,\n",
       "               early_stopping_rounds=None, enable_categorical=False,\n",
       "               eval_metric=None, gamma=0, gpu_id=-1, grow_policy='depthwise',\n",
       "               importance_type=None, interaction_constraints='', max_bin=256,\n",
       "               max_cat_to_onehot=4, max_delta_step=0, max_depth=6, max_leaves=0,\n",
       "               min_child_weight=1, missing=nan, monotone_constraints='()',\n",
       "               n_estimators=100, n_jobs=0, num_parallel_tree=100,\n",
       "               objective='reg:squarederror', predictor='auto', random_state=0,\n",
       "               reg_alpha=0, sampling_method='uniform', scale_pos_weight=1, ...)"
      ]
     },
     "execution_count": 46,
     "metadata": {},
     "output_type": "execute_result"
    }
   ],
   "source": [
    "model_test.fit(X_train,y_train)"
   ]
  },
  {
   "cell_type": "code",
   "execution_count": 47,
   "id": "e1f13713",
   "metadata": {},
   "outputs": [],
   "source": [
    "y_preds_test=model_test.predict(X_test)"
   ]
  },
  {
   "cell_type": "code",
   "execution_count": 48,
   "id": "ae38a60f",
   "metadata": {},
   "outputs": [],
   "source": [
    "evaluation_dict['XGBRFregressor']=evaluation_metrics(y_test,y_preds_test)"
   ]
  },
  {
   "cell_type": "code",
   "execution_count": 49,
   "id": "f7ee0f48",
   "metadata": {
    "scrolled": true
   },
   "outputs": [
    {
     "data": {
      "image/png": "[encoded data removed]",
      "text/plain": [
       "<Figure size 432x288 with 1 Axes>"
      ]
     },
     "metadata": {
      "needs_background": "light"
     },
     "output_type": "display_data"
    }
   ],
   "source": [
    "actual_vs_predicted(y_test,y_preds_test,model='XGBRFregressor')"
   ]
  },
  {
   "cell_type": "code",
   "execution_count": null,
   "id": "9cf5941c",
   "metadata": {},
   "outputs": [],
   "source": []
  },
  {
   "cell_type": "markdown",
   "id": "853fc2c6",
   "metadata": {},
   "source": [
    "Catboost"
   ]
  },
  {
   "cell_type": "code",
   "execution_count": 50,
   "id": "98110eb9",
   "metadata": {},
   "outputs": [],
   "source": [
    "import catboost as cat"
   ]
  },
  {
   "cell_type": "code",
   "execution_count": 51,
   "id": "8e134938",
   "metadata": {},
   "outputs": [],
   "source": [
    "model_3=cat.CatBoostRegressor()"
   ]
  },
  {
   "cell_type": "code",
   "execution_count": 52,
   "id": "fa93a27c",
   "metadata": {},
   "outputs": [
    {
     "name": "stdout",
     "output_type": "stream",
     "text": [
      "Learning rate set to 0.022199\n",
      "0:\tlearn: 31.0375395\ttotal: 173ms\tremaining: 2m 52s\n",
      "1:\tlearn: 30.8475874\ttotal: 175ms\tremaining: 1m 27s\n",
      "2:\tlearn: 30.6703837\ttotal: 176ms\tremaining: 58.4s\n",
      "3:\tlearn: 30.4876610\ttotal: 176ms\tremaining: 43.9s\n",
      "4:\tlearn: 30.3029274\ttotal: 177ms\tremaining: 35.3s\n",
      "5:\tlearn: 30.1156184\ttotal: 178ms\tremaining: 29.5s\n",
      "6:\tlearn: 29.9239036\ttotal: 179ms\tremaining: 25.4s\n",
      "7:\tlearn: 29.7716336\ttotal: 179ms\tremaining: 22.2s\n",
      "8:\tlearn: 29.6155964\ttotal: 180ms\tremaining: 19.8s\n",
      "9:\tlearn: 29.4181401\ttotal: 180ms\tremaining: 17.9s\n",
      "10:\tlearn: 29.2278818\ttotal: 181ms\tremaining: 16.3s\n",
      "11:\tlearn: 29.0377042\ttotal: 182ms\tremaining: 14.9s\n",
      "12:\tlearn: 28.8508975\ttotal: 182ms\tremaining: 13.8s\n",
      "13:\tlearn: 28.6581255\ttotal: 183ms\tremaining: 12.9s\n",
      "14:\tlearn: 28.5123368\ttotal: 184ms\tremaining: 12.1s\n",
      "15:\tlearn: 28.3623301\ttotal: 184ms\tremaining: 11.3s\n",
      "16:\tlearn: 28.1929835\ttotal: 185ms\tremaining: 10.7s\n",
      "17:\tlearn: 28.0184213\ttotal: 186ms\tremaining: 10.1s\n",
      "18:\tlearn: 27.8644497\ttotal: 187ms\tremaining: 9.63s\n",
      "19:\tlearn: 27.6612839\ttotal: 187ms\tremaining: 9.17s\n",
      "20:\tlearn: 27.4946902\ttotal: 188ms\tremaining: 8.76s\n",
      "21:\tlearn: 27.3434559\ttotal: 188ms\tremaining: 8.37s\n",
      "22:\tlearn: 27.2051060\ttotal: 189ms\tremaining: 8.04s\n",
      "23:\tlearn: 27.0844174\ttotal: 190ms\tremaining: 7.72s\n",
      "24:\tlearn: 26.9328244\ttotal: 191ms\tremaining: 7.46s\n",
      "25:\tlearn: 26.7755506\ttotal: 192ms\tremaining: 7.21s\n",
      "26:\tlearn: 26.6590179\ttotal: 194ms\tremaining: 6.99s\n",
      "27:\tlearn: 26.5325104\ttotal: 195ms\tremaining: 6.76s\n",
      "28:\tlearn: 26.3982301\ttotal: 196ms\tremaining: 6.57s\n",
      "29:\tlearn: 26.2602775\ttotal: 197ms\tremaining: 6.38s\n",
      "30:\tlearn: 26.1199883\ttotal: 198ms\tremaining: 6.19s\n",
      "31:\tlearn: 26.0025829\ttotal: 199ms\tremaining: 6.01s\n",
      "32:\tlearn: 25.8739012\ttotal: 200ms\tremaining: 5.85s\n",
      "33:\tlearn: 25.7527547\ttotal: 200ms\tremaining: 5.69s\n",
      "34:\tlearn: 25.6286590\ttotal: 201ms\tremaining: 5.53s\n",
      "35:\tlearn: 25.5066378\ttotal: 201ms\tremaining: 5.39s\n",
      "36:\tlearn: 25.3782154\ttotal: 202ms\tremaining: 5.26s\n",
      "37:\tlearn: 25.2798417\ttotal: 203ms\tremaining: 5.13s\n",
      "38:\tlearn: 25.1694061\ttotal: 203ms\tremaining: 5.01s\n",
      "39:\tlearn: 25.0691563\ttotal: 204ms\tremaining: 4.89s\n",
      "40:\tlearn: 24.9577059\ttotal: 204ms\tremaining: 4.78s\n",
      "41:\tlearn: 24.8325283\ttotal: 205ms\tremaining: 4.67s\n",
      "42:\tlearn: 24.7466023\ttotal: 206ms\tremaining: 4.57s\n",
      "43:\tlearn: 24.6374694\ttotal: 206ms\tremaining: 4.47s\n",
      "44:\tlearn: 24.5416565\ttotal: 207ms\tremaining: 4.38s\n",
      "45:\tlearn: 24.4367058\ttotal: 207ms\tremaining: 4.29s\n",
      "46:\tlearn: 24.3145590\ttotal: 208ms\tremaining: 4.21s\n",
      "47:\tlearn: 24.2140194\ttotal: 208ms\tremaining: 4.13s\n",
      "48:\tlearn: 24.0914466\ttotal: 209ms\tremaining: 4.05s\n",
      "49:\tlearn: 23.9782438\ttotal: 210ms\tremaining: 3.98s\n",
      "50:\tlearn: 23.8954215\ttotal: 210ms\tremaining: 3.91s\n",
      "51:\tlearn: 23.7894472\ttotal: 210ms\tremaining: 3.83s\n",
      "52:\tlearn: 23.6953193\ttotal: 211ms\tremaining: 3.77s\n",
      "53:\tlearn: 23.5962164\ttotal: 211ms\tremaining: 3.7s\n",
      "54:\tlearn: 23.5075297\ttotal: 212ms\tremaining: 3.64s\n",
      "55:\tlearn: 23.4148171\ttotal: 213ms\tremaining: 3.59s\n",
      "56:\tlearn: 23.3309762\ttotal: 214ms\tremaining: 3.53s\n",
      "57:\tlearn: 23.2404236\ttotal: 214ms\tremaining: 3.48s\n",
      "58:\tlearn: 23.1007643\ttotal: 215ms\tremaining: 3.42s\n",
      "59:\tlearn: 23.0119752\ttotal: 215ms\tremaining: 3.37s\n",
      "60:\tlearn: 22.9432329\ttotal: 216ms\tremaining: 3.32s\n",
      "61:\tlearn: 22.8640427\ttotal: 217ms\tremaining: 3.28s\n",
      "62:\tlearn: 22.7872355\ttotal: 218ms\tremaining: 3.24s\n",
      "63:\tlearn: 22.7026174\ttotal: 218ms\tremaining: 3.19s\n",
      "64:\tlearn: 22.6200976\ttotal: 219ms\tremaining: 3.15s\n",
      "65:\tlearn: 22.5409858\ttotal: 220ms\tremaining: 3.11s\n",
      "66:\tlearn: 22.4666237\ttotal: 220ms\tremaining: 3.06s\n",
      "67:\tlearn: 22.3947225\ttotal: 221ms\tremaining: 3.02s\n",
      "68:\tlearn: 22.3036300\ttotal: 221ms\tremaining: 2.98s\n",
      "69:\tlearn: 22.2247834\ttotal: 222ms\tremaining: 2.95s\n",
      "70:\tlearn: 22.1343400\ttotal: 222ms\tremaining: 2.91s\n",
      "71:\tlearn: 22.0592145\ttotal: 223ms\tremaining: 2.87s\n",
      "72:\tlearn: 21.9728288\ttotal: 223ms\tremaining: 2.84s\n",
      "73:\tlearn: 21.9174480\ttotal: 224ms\tremaining: 2.8s\n",
      "74:\tlearn: 21.8635821\ttotal: 225ms\tremaining: 2.77s\n",
      "75:\tlearn: 21.7875281\ttotal: 225ms\tremaining: 2.74s\n",
      "76:\tlearn: 21.7112261\ttotal: 226ms\tremaining: 2.71s\n",
      "77:\tlearn: 21.6242698\ttotal: 226ms\tremaining: 2.67s\n",
      "78:\tlearn: 21.5565084\ttotal: 227ms\tremaining: 2.64s\n",
      "79:\tlearn: 21.4654600\ttotal: 227ms\tremaining: 2.62s\n",
      "80:\tlearn: 21.3819319\ttotal: 228ms\tremaining: 2.59s\n",
      "81:\tlearn: 21.3090439\ttotal: 229ms\tremaining: 2.56s\n",
      "82:\tlearn: 21.2320071\ttotal: 229ms\tremaining: 2.53s\n",
      "83:\tlearn: 21.1699603\ttotal: 230ms\tremaining: 2.5s\n",
      "84:\tlearn: 21.1124167\ttotal: 230ms\tremaining: 2.48s\n",
      "85:\tlearn: 21.0416220\ttotal: 231ms\tremaining: 2.45s\n",
      "86:\tlearn: 20.9817427\ttotal: 231ms\tremaining: 2.43s\n",
      "87:\tlearn: 20.9338872\ttotal: 232ms\tremaining: 2.4s\n",
      "88:\tlearn: 20.8547803\ttotal: 232ms\tremaining: 2.38s\n",
      "89:\tlearn: 20.7860915\ttotal: 233ms\tremaining: 2.35s\n",
      "90:\tlearn: 20.6916091\ttotal: 233ms\tremaining: 2.33s\n",
      "91:\tlearn: 20.6439250\ttotal: 234ms\tremaining: 2.31s\n",
      "92:\tlearn: 20.5849207\ttotal: 234ms\tremaining: 2.29s\n",
      "93:\tlearn: 20.5293284\ttotal: 235ms\tremaining: 2.27s\n",
      "94:\tlearn: 20.4510165\ttotal: 236ms\tremaining: 2.25s\n",
      "95:\tlearn: 20.4047504\ttotal: 237ms\tremaining: 2.23s\n",
      "96:\tlearn: 20.3328397\ttotal: 237ms\tremaining: 2.21s\n",
      "97:\tlearn: 20.2185014\ttotal: 238ms\tremaining: 2.19s\n",
      "98:\tlearn: 20.1825657\ttotal: 238ms\tremaining: 2.16s\n",
      "99:\tlearn: 20.1130260\ttotal: 238ms\tremaining: 2.14s\n",
      "100:\tlearn: 20.0484799\ttotal: 239ms\tremaining: 2.13s\n",
      "101:\tlearn: 19.9902504\ttotal: 239ms\tremaining: 2.11s\n",
      "102:\tlearn: 19.9395481\ttotal: 240ms\tremaining: 2.09s\n",
      "103:\tlearn: 19.8661232\ttotal: 241ms\tremaining: 2.07s\n",
      "104:\tlearn: 19.8179940\ttotal: 241ms\tremaining: 2.05s\n",
      "105:\tlearn: 19.7529416\ttotal: 242ms\tremaining: 2.04s\n",
      "106:\tlearn: 19.6849984\ttotal: 242ms\tremaining: 2.02s\n",
      "107:\tlearn: 19.6151500\ttotal: 243ms\tremaining: 2s\n",
      "108:\tlearn: 19.5790701\ttotal: 243ms\tremaining: 1.99s\n",
      "109:\tlearn: 19.5329632\ttotal: 243ms\tremaining: 1.97s\n",
      "110:\tlearn: 19.4645823\ttotal: 244ms\tremaining: 1.95s\n",
      "111:\tlearn: 19.3918706\ttotal: 244ms\tremaining: 1.94s\n",
      "112:\tlearn: 19.3454547\ttotal: 245ms\tremaining: 1.92s\n",
      "113:\tlearn: 19.2763026\ttotal: 246ms\tremaining: 1.91s\n",
      "114:\tlearn: 19.2302277\ttotal: 246ms\tremaining: 1.9s\n",
      "115:\tlearn: 19.1791457\ttotal: 247ms\tremaining: 1.88s\n",
      "116:\tlearn: 19.1268076\ttotal: 248ms\tremaining: 1.87s\n",
      "117:\tlearn: 19.1117178\ttotal: 248ms\tremaining: 1.85s\n",
      "118:\tlearn: 19.0681546\ttotal: 248ms\tremaining: 1.84s\n",
      "119:\tlearn: 19.0319152\ttotal: 249ms\tremaining: 1.82s\n",
      "120:\tlearn: 18.9869465\ttotal: 249ms\tremaining: 1.81s\n",
      "121:\tlearn: 18.9306287\ttotal: 250ms\tremaining: 1.8s\n",
      "122:\tlearn: 18.8649118\ttotal: 250ms\tremaining: 1.78s\n",
      "123:\tlearn: 18.8064553\ttotal: 251ms\tremaining: 1.77s\n",
      "124:\tlearn: 18.7754933\ttotal: 251ms\tremaining: 1.76s\n",
      "125:\tlearn: 18.7159699\ttotal: 252ms\tremaining: 1.75s\n",
      "126:\tlearn: 18.6746665\ttotal: 252ms\tremaining: 1.73s\n",
      "127:\tlearn: 18.6231825\ttotal: 253ms\tremaining: 1.72s\n",
      "128:\tlearn: 18.5487157\ttotal: 253ms\tremaining: 1.71s\n",
      "129:\tlearn: 18.5028479\ttotal: 254ms\tremaining: 1.7s\n",
      "130:\tlearn: 18.4409364\ttotal: 255ms\tremaining: 1.69s\n",
      "131:\tlearn: 18.3683897\ttotal: 255ms\tremaining: 1.68s\n",
      "132:\tlearn: 18.3217047\ttotal: 256ms\tremaining: 1.67s\n",
      "133:\tlearn: 18.2821041\ttotal: 256ms\tremaining: 1.66s\n",
      "134:\tlearn: 18.2518928\ttotal: 258ms\tremaining: 1.66s\n",
      "135:\tlearn: 18.2042652\ttotal: 259ms\tremaining: 1.65s\n",
      "136:\tlearn: 18.1593395\ttotal: 260ms\tremaining: 1.64s\n",
      "137:\tlearn: 18.1209903\ttotal: 260ms\tremaining: 1.62s\n",
      "138:\tlearn: 18.0650872\ttotal: 261ms\tremaining: 1.61s\n",
      "139:\tlearn: 18.0075057\ttotal: 261ms\tremaining: 1.6s\n",
      "140:\tlearn: 17.9729440\ttotal: 262ms\tremaining: 1.59s\n",
      "141:\tlearn: 17.9385339\ttotal: 262ms\tremaining: 1.58s\n",
      "142:\tlearn: 17.8935081\ttotal: 263ms\tremaining: 1.57s\n",
      "143:\tlearn: 17.8230548\ttotal: 263ms\tremaining: 1.56s\n",
      "144:\tlearn: 17.7848004\ttotal: 264ms\tremaining: 1.56s\n",
      "145:\tlearn: 17.7340937\ttotal: 264ms\tremaining: 1.55s\n",
      "146:\tlearn: 17.6922104\ttotal: 265ms\tremaining: 1.54s\n",
      "147:\tlearn: 17.6554307\ttotal: 265ms\tremaining: 1.53s\n",
      "148:\tlearn: 17.6016134\ttotal: 266ms\tremaining: 1.52s\n",
      "149:\tlearn: 17.5551406\ttotal: 267ms\tremaining: 1.51s\n",
      "150:\tlearn: 17.5057267\ttotal: 267ms\tremaining: 1.5s\n",
      "151:\tlearn: 17.4751636\ttotal: 268ms\tremaining: 1.49s\n",
      "152:\tlearn: 17.4105851\ttotal: 268ms\tremaining: 1.48s\n",
      "153:\tlearn: 17.3585720\ttotal: 269ms\tremaining: 1.48s\n",
      "154:\tlearn: 17.3072610\ttotal: 270ms\tremaining: 1.47s\n",
      "155:\tlearn: 17.2439583\ttotal: 270ms\tremaining: 1.46s\n",
      "156:\tlearn: 17.2193711\ttotal: 271ms\tremaining: 1.45s\n",
      "157:\tlearn: 17.1701424\ttotal: 271ms\tremaining: 1.45s\n",
      "158:\tlearn: 17.1233609\ttotal: 272ms\tremaining: 1.44s\n",
      "159:\tlearn: 17.0833855\ttotal: 273ms\tremaining: 1.43s\n",
      "160:\tlearn: 17.0168591\ttotal: 273ms\tremaining: 1.42s\n",
      "161:\tlearn: 16.9700967\ttotal: 274ms\tremaining: 1.42s\n",
      "162:\tlearn: 16.9321599\ttotal: 274ms\tremaining: 1.41s\n",
      "163:\tlearn: 16.8983570\ttotal: 275ms\tremaining: 1.4s\n",
      "164:\tlearn: 16.8612717\ttotal: 275ms\tremaining: 1.39s\n",
      "165:\tlearn: 16.8105194\ttotal: 276ms\tremaining: 1.39s\n",
      "166:\tlearn: 16.7755229\ttotal: 276ms\tremaining: 1.38s\n",
      "167:\tlearn: 16.7344894\ttotal: 277ms\tremaining: 1.37s\n",
      "168:\tlearn: 16.7059678\ttotal: 277ms\tremaining: 1.36s\n",
      "169:\tlearn: 16.6767516\ttotal: 278ms\tremaining: 1.36s\n",
      "170:\tlearn: 16.6314662\ttotal: 279ms\tremaining: 1.35s\n",
      "171:\tlearn: 16.5917401\ttotal: 279ms\tremaining: 1.34s\n",
      "172:\tlearn: 16.5544359\ttotal: 280ms\tremaining: 1.34s\n",
      "173:\tlearn: 16.5029586\ttotal: 281ms\tremaining: 1.33s\n",
      "174:\tlearn: 16.4564042\ttotal: 281ms\tremaining: 1.33s\n",
      "175:\tlearn: 16.4081695\ttotal: 282ms\tremaining: 1.32s\n",
      "176:\tlearn: 16.3669685\ttotal: 282ms\tremaining: 1.31s\n",
      "177:\tlearn: 16.3328143\ttotal: 283ms\tremaining: 1.31s\n",
      "178:\tlearn: 16.3005678\ttotal: 284ms\tremaining: 1.3s\n",
      "179:\tlearn: 16.2624554\ttotal: 284ms\tremaining: 1.29s\n",
      "180:\tlearn: 16.2214954\ttotal: 285ms\tremaining: 1.29s\n",
      "181:\tlearn: 16.1948064\ttotal: 285ms\tremaining: 1.28s\n",
      "182:\tlearn: 16.1452905\ttotal: 285ms\tremaining: 1.27s\n",
      "183:\tlearn: 16.1247862\ttotal: 286ms\tremaining: 1.27s\n",
      "184:\tlearn: 16.0846787\ttotal: 286ms\tremaining: 1.26s\n",
      "185:\tlearn: 16.0405676\ttotal: 287ms\tremaining: 1.25s\n",
      "186:\tlearn: 16.0047591\ttotal: 287ms\tremaining: 1.25s\n",
      "187:\tlearn: 15.9809028\ttotal: 288ms\tremaining: 1.24s\n",
      "188:\tlearn: 15.9421966\ttotal: 288ms\tremaining: 1.24s\n",
      "189:\tlearn: 15.9022818\ttotal: 289ms\tremaining: 1.23s\n",
      "190:\tlearn: 15.8824042\ttotal: 289ms\tremaining: 1.22s\n",
      "191:\tlearn: 15.8396258\ttotal: 290ms\tremaining: 1.22s\n",
      "192:\tlearn: 15.8195417\ttotal: 290ms\tremaining: 1.21s\n",
      "193:\tlearn: 15.7994827\ttotal: 291ms\tremaining: 1.21s\n",
      "194:\tlearn: 15.7630951\ttotal: 291ms\tremaining: 1.2s\n",
      "195:\tlearn: 15.7121042\ttotal: 292ms\tremaining: 1.2s\n",
      "196:\tlearn: 15.6728681\ttotal: 292ms\tremaining: 1.19s\n",
      "197:\tlearn: 15.6544337\ttotal: 293ms\tremaining: 1.19s\n",
      "198:\tlearn: 15.5905314\ttotal: 293ms\tremaining: 1.18s\n",
      "199:\tlearn: 15.5525197\ttotal: 294ms\tremaining: 1.18s\n",
      "200:\tlearn: 15.5113404\ttotal: 295ms\tremaining: 1.17s\n",
      "201:\tlearn: 15.4660355\ttotal: 295ms\tremaining: 1.17s\n",
      "202:\tlearn: 15.4213242\ttotal: 296ms\tremaining: 1.16s\n",
      "203:\tlearn: 15.3691277\ttotal: 296ms\tremaining: 1.16s\n",
      "204:\tlearn: 15.3397727\ttotal: 297ms\tremaining: 1.15s\n",
      "205:\tlearn: 15.3022186\ttotal: 297ms\tremaining: 1.15s\n",
      "206:\tlearn: 15.2665930\ttotal: 298ms\tremaining: 1.14s\n",
      "207:\tlearn: 15.2189853\ttotal: 298ms\tremaining: 1.14s\n",
      "208:\tlearn: 15.1748325\ttotal: 299ms\tremaining: 1.13s\n",
      "209:\tlearn: 15.1298122\ttotal: 299ms\tremaining: 1.13s\n",
      "210:\tlearn: 15.0854931\ttotal: 300ms\tremaining: 1.12s\n",
      "211:\tlearn: 15.0592838\ttotal: 300ms\tremaining: 1.12s\n",
      "212:\tlearn: 15.0219899\ttotal: 301ms\tremaining: 1.11s\n",
      "213:\tlearn: 14.9821743\ttotal: 303ms\tremaining: 1.11s\n",
      "214:\tlearn: 14.9440710\ttotal: 303ms\tremaining: 1.11s\n",
      "215:\tlearn: 14.9276288\ttotal: 304ms\tremaining: 1.1s\n",
      "216:\tlearn: 14.8903441\ttotal: 304ms\tremaining: 1.1s\n"
     ]
    },
    {
     "name": "stdout",
     "output_type": "stream",
     "text": [
      "217:\tlearn: 14.8655320\ttotal: 305ms\tremaining: 1.09s\n",
      "218:\tlearn: 14.8445362\ttotal: 306ms\tremaining: 1.09s\n",
      "219:\tlearn: 14.8187379\ttotal: 306ms\tremaining: 1.08s\n",
      "220:\tlearn: 14.7610015\ttotal: 307ms\tremaining: 1.08s\n",
      "221:\tlearn: 14.7025451\ttotal: 308ms\tremaining: 1.08s\n",
      "222:\tlearn: 14.6692425\ttotal: 308ms\tremaining: 1.07s\n",
      "223:\tlearn: 14.6163244\ttotal: 309ms\tremaining: 1.07s\n",
      "224:\tlearn: 14.5773189\ttotal: 309ms\tremaining: 1.06s\n",
      "225:\tlearn: 14.5551766\ttotal: 310ms\tremaining: 1.06s\n",
      "226:\tlearn: 14.5220155\ttotal: 310ms\tremaining: 1.06s\n",
      "227:\tlearn: 14.4817479\ttotal: 311ms\tremaining: 1.05s\n",
      "228:\tlearn: 14.4545363\ttotal: 312ms\tremaining: 1.05s\n",
      "229:\tlearn: 14.4170993\ttotal: 312ms\tremaining: 1.04s\n",
      "230:\tlearn: 14.3637416\ttotal: 313ms\tremaining: 1.04s\n",
      "231:\tlearn: 14.3302674\ttotal: 314ms\tremaining: 1.04s\n",
      "232:\tlearn: 14.2923194\ttotal: 314ms\tremaining: 1.03s\n",
      "233:\tlearn: 14.2596664\ttotal: 315ms\tremaining: 1.03s\n",
      "234:\tlearn: 14.2368103\ttotal: 316ms\tremaining: 1.03s\n",
      "235:\tlearn: 14.2041824\ttotal: 317ms\tremaining: 1.02s\n",
      "236:\tlearn: 14.1679081\ttotal: 317ms\tremaining: 1.02s\n",
      "237:\tlearn: 14.1467385\ttotal: 318ms\tremaining: 1.02s\n",
      "238:\tlearn: 14.0908462\ttotal: 319ms\tremaining: 1.01s\n",
      "239:\tlearn: 14.0497169\ttotal: 319ms\tremaining: 1.01s\n",
      "240:\tlearn: 14.0214711\ttotal: 320ms\tremaining: 1.01s\n",
      "241:\tlearn: 13.9829300\ttotal: 321ms\tremaining: 1s\n",
      "242:\tlearn: 13.9411441\ttotal: 321ms\tremaining: 1s\n",
      "243:\tlearn: 13.9198466\ttotal: 322ms\tremaining: 998ms\n",
      "244:\tlearn: 13.8823622\ttotal: 323ms\tremaining: 995ms\n",
      "245:\tlearn: 13.8548938\ttotal: 323ms\tremaining: 991ms\n",
      "246:\tlearn: 13.8031140\ttotal: 324ms\tremaining: 988ms\n",
      "247:\tlearn: 13.7699991\ttotal: 325ms\tremaining: 987ms\n",
      "248:\tlearn: 13.7451138\ttotal: 326ms\tremaining: 984ms\n",
      "249:\tlearn: 13.7007667\ttotal: 327ms\tremaining: 982ms\n",
      "250:\tlearn: 13.6751501\ttotal: 328ms\tremaining: 979ms\n",
      "251:\tlearn: 13.6294714\ttotal: 329ms\tremaining: 976ms\n",
      "252:\tlearn: 13.5986040\ttotal: 330ms\tremaining: 974ms\n",
      "253:\tlearn: 13.5443056\ttotal: 331ms\tremaining: 972ms\n",
      "254:\tlearn: 13.5121500\ttotal: 332ms\tremaining: 970ms\n",
      "255:\tlearn: 13.4992282\ttotal: 333ms\tremaining: 967ms\n",
      "256:\tlearn: 13.4838065\ttotal: 333ms\tremaining: 964ms\n",
      "257:\tlearn: 13.4565594\ttotal: 334ms\tremaining: 960ms\n",
      "258:\tlearn: 13.4251213\ttotal: 335ms\tremaining: 957ms\n",
      "259:\tlearn: 13.3892683\ttotal: 335ms\tremaining: 955ms\n",
      "260:\tlearn: 13.3701303\ttotal: 336ms\tremaining: 952ms\n",
      "261:\tlearn: 13.3499005\ttotal: 337ms\tremaining: 949ms\n",
      "262:\tlearn: 13.3212093\ttotal: 337ms\tremaining: 945ms\n",
      "263:\tlearn: 13.2900086\ttotal: 338ms\tremaining: 942ms\n",
      "264:\tlearn: 13.2683882\ttotal: 338ms\tremaining: 938ms\n",
      "265:\tlearn: 13.2338163\ttotal: 339ms\tremaining: 935ms\n",
      "266:\tlearn: 13.1847737\ttotal: 339ms\tremaining: 931ms\n",
      "267:\tlearn: 13.1538840\ttotal: 341ms\tremaining: 932ms\n",
      "268:\tlearn: 13.1211590\ttotal: 342ms\tremaining: 929ms\n",
      "269:\tlearn: 13.0900122\ttotal: 342ms\tremaining: 926ms\n",
      "270:\tlearn: 13.0307262\ttotal: 343ms\tremaining: 923ms\n",
      "271:\tlearn: 12.9977278\ttotal: 344ms\tremaining: 920ms\n",
      "272:\tlearn: 12.9769523\ttotal: 345ms\tremaining: 918ms\n",
      "273:\tlearn: 12.9398167\ttotal: 345ms\tremaining: 915ms\n",
      "274:\tlearn: 12.8938614\ttotal: 346ms\tremaining: 912ms\n",
      "275:\tlearn: 12.8715507\ttotal: 347ms\tremaining: 909ms\n",
      "276:\tlearn: 12.8511665\ttotal: 347ms\tremaining: 907ms\n",
      "277:\tlearn: 12.8161621\ttotal: 348ms\tremaining: 904ms\n",
      "278:\tlearn: 12.7608049\ttotal: 349ms\tremaining: 902ms\n",
      "279:\tlearn: 12.7237455\ttotal: 350ms\tremaining: 899ms\n",
      "280:\tlearn: 12.6946853\ttotal: 350ms\tremaining: 896ms\n",
      "281:\tlearn: 12.6766101\ttotal: 351ms\tremaining: 893ms\n",
      "282:\tlearn: 12.6452818\ttotal: 351ms\tremaining: 890ms\n",
      "283:\tlearn: 12.6053472\ttotal: 352ms\tremaining: 887ms\n",
      "284:\tlearn: 12.5848043\ttotal: 352ms\tremaining: 884ms\n",
      "285:\tlearn: 12.5678275\ttotal: 353ms\tremaining: 881ms\n",
      "286:\tlearn: 12.5392437\ttotal: 353ms\tremaining: 878ms\n",
      "287:\tlearn: 12.5197413\ttotal: 354ms\tremaining: 875ms\n",
      "288:\tlearn: 12.4676087\ttotal: 354ms\tremaining: 872ms\n",
      "289:\tlearn: 12.4407332\ttotal: 355ms\tremaining: 869ms\n",
      "290:\tlearn: 12.4212152\ttotal: 356ms\tremaining: 866ms\n",
      "291:\tlearn: 12.4021379\ttotal: 356ms\tremaining: 863ms\n",
      "292:\tlearn: 12.3634269\ttotal: 357ms\tremaining: 861ms\n",
      "293:\tlearn: 12.3131279\ttotal: 357ms\tremaining: 858ms\n",
      "294:\tlearn: 12.2964431\ttotal: 358ms\tremaining: 856ms\n",
      "295:\tlearn: 12.2730346\ttotal: 359ms\tremaining: 854ms\n",
      "296:\tlearn: 12.2449494\ttotal: 360ms\tremaining: 851ms\n",
      "297:\tlearn: 12.2190492\ttotal: 360ms\tremaining: 849ms\n",
      "298:\tlearn: 12.1748560\ttotal: 361ms\tremaining: 846ms\n",
      "299:\tlearn: 12.1562942\ttotal: 361ms\tremaining: 843ms\n",
      "300:\tlearn: 12.1205707\ttotal: 362ms\tremaining: 840ms\n",
      "301:\tlearn: 12.0964987\ttotal: 362ms\tremaining: 838ms\n",
      "302:\tlearn: 12.0785653\ttotal: 363ms\tremaining: 835ms\n",
      "303:\tlearn: 12.0637008\ttotal: 363ms\tremaining: 832ms\n",
      "304:\tlearn: 12.0162185\ttotal: 364ms\tremaining: 829ms\n",
      "305:\tlearn: 11.9653781\ttotal: 365ms\tremaining: 827ms\n",
      "306:\tlearn: 11.9456440\ttotal: 365ms\tremaining: 824ms\n",
      "307:\tlearn: 11.9089538\ttotal: 366ms\tremaining: 821ms\n",
      "308:\tlearn: 11.8607256\ttotal: 366ms\tremaining: 819ms\n",
      "309:\tlearn: 11.8250834\ttotal: 367ms\tremaining: 816ms\n",
      "310:\tlearn: 11.8033080\ttotal: 368ms\tremaining: 814ms\n",
      "311:\tlearn: 11.7734922\ttotal: 368ms\tremaining: 812ms\n",
      "312:\tlearn: 11.7475215\ttotal: 369ms\tremaining: 809ms\n",
      "313:\tlearn: 11.7121620\ttotal: 369ms\tremaining: 807ms\n",
      "314:\tlearn: 11.6890933\ttotal: 370ms\tremaining: 805ms\n",
      "315:\tlearn: 11.6722937\ttotal: 371ms\tremaining: 802ms\n",
      "316:\tlearn: 11.6554679\ttotal: 371ms\tremaining: 800ms\n",
      "317:\tlearn: 11.6223966\ttotal: 372ms\tremaining: 797ms\n",
      "318:\tlearn: 11.5967722\ttotal: 372ms\tremaining: 795ms\n",
      "319:\tlearn: 11.5802135\ttotal: 373ms\tremaining: 792ms\n",
      "320:\tlearn: 11.5593825\ttotal: 373ms\tremaining: 790ms\n",
      "321:\tlearn: 11.5430480\ttotal: 374ms\tremaining: 787ms\n",
      "322:\tlearn: 11.5224733\ttotal: 374ms\tremaining: 785ms\n",
      "323:\tlearn: 11.4861168\ttotal: 375ms\tremaining: 783ms\n",
      "324:\tlearn: 11.4717674\ttotal: 376ms\tremaining: 780ms\n",
      "325:\tlearn: 11.4253496\ttotal: 376ms\tremaining: 778ms\n",
      "326:\tlearn: 11.4092732\ttotal: 377ms\tremaining: 775ms\n",
      "327:\tlearn: 11.3863914\ttotal: 377ms\tremaining: 773ms\n",
      "328:\tlearn: 11.3577569\ttotal: 378ms\tremaining: 770ms\n",
      "329:\tlearn: 11.3348329\ttotal: 378ms\tremaining: 768ms\n",
      "330:\tlearn: 11.3066560\ttotal: 379ms\tremaining: 766ms\n",
      "331:\tlearn: 11.2866750\ttotal: 380ms\tremaining: 764ms\n",
      "332:\tlearn: 11.2400283\ttotal: 380ms\tremaining: 762ms\n",
      "333:\tlearn: 11.2246200\ttotal: 381ms\tremaining: 760ms\n",
      "334:\tlearn: 11.1879536\ttotal: 382ms\tremaining: 757ms\n",
      "335:\tlearn: 11.1545524\ttotal: 382ms\tremaining: 755ms\n",
      "336:\tlearn: 11.1178062\ttotal: 383ms\tremaining: 753ms\n",
      "337:\tlearn: 11.0929611\ttotal: 383ms\tremaining: 751ms\n",
      "338:\tlearn: 11.0662034\ttotal: 384ms\tremaining: 748ms\n",
      "339:\tlearn: 11.0510442\ttotal: 384ms\tremaining: 746ms\n",
      "340:\tlearn: 11.0179917\ttotal: 385ms\tremaining: 744ms\n",
      "341:\tlearn: 10.9907435\ttotal: 385ms\tremaining: 742ms\n",
      "342:\tlearn: 10.9546355\ttotal: 386ms\tremaining: 739ms\n",
      "343:\tlearn: 10.9361585\ttotal: 387ms\tremaining: 737ms\n",
      "344:\tlearn: 10.9003363\ttotal: 387ms\tremaining: 735ms\n",
      "345:\tlearn: 10.8680722\ttotal: 388ms\tremaining: 733ms\n",
      "346:\tlearn: 10.8489809\ttotal: 388ms\tremaining: 730ms\n",
      "347:\tlearn: 10.8170798\ttotal: 389ms\tremaining: 728ms\n",
      "348:\tlearn: 10.7893952\ttotal: 389ms\tremaining: 726ms\n",
      "349:\tlearn: 10.7661179\ttotal: 390ms\tremaining: 725ms\n",
      "350:\tlearn: 10.7515046\ttotal: 391ms\tremaining: 723ms\n",
      "351:\tlearn: 10.7199532\ttotal: 392ms\tremaining: 721ms\n",
      "352:\tlearn: 10.6928484\ttotal: 392ms\tremaining: 719ms\n",
      "353:\tlearn: 10.6784694\ttotal: 393ms\tremaining: 717ms\n",
      "354:\tlearn: 10.6451633\ttotal: 393ms\tremaining: 715ms\n",
      "355:\tlearn: 10.6017244\ttotal: 394ms\tremaining: 713ms\n",
      "356:\tlearn: 10.5760916\ttotal: 395ms\tremaining: 711ms\n",
      "357:\tlearn: 10.5318745\ttotal: 395ms\tremaining: 709ms\n",
      "358:\tlearn: 10.4982918\ttotal: 396ms\tremaining: 706ms\n",
      "359:\tlearn: 10.4557037\ttotal: 396ms\tremaining: 704ms\n",
      "360:\tlearn: 10.4289951\ttotal: 397ms\tremaining: 702ms\n",
      "361:\tlearn: 10.4121298\ttotal: 397ms\tremaining: 700ms\n",
      "362:\tlearn: 10.3821468\ttotal: 398ms\tremaining: 698ms\n",
      "363:\tlearn: 10.3682440\ttotal: 398ms\tremaining: 696ms\n",
      "364:\tlearn: 10.3377304\ttotal: 399ms\tremaining: 694ms\n",
      "365:\tlearn: 10.3238500\ttotal: 400ms\tremaining: 692ms\n",
      "366:\tlearn: 10.3059633\ttotal: 400ms\tremaining: 690ms\n",
      "367:\tlearn: 10.2766880\ttotal: 401ms\tremaining: 688ms\n",
      "368:\tlearn: 10.2532549\ttotal: 401ms\tremaining: 686ms\n",
      "369:\tlearn: 10.2218042\ttotal: 402ms\tremaining: 684ms\n",
      "370:\tlearn: 10.2010142\ttotal: 403ms\tremaining: 683ms\n",
      "371:\tlearn: 10.1756262\ttotal: 403ms\tremaining: 681ms\n",
      "372:\tlearn: 10.1620747\ttotal: 404ms\tremaining: 679ms\n",
      "373:\tlearn: 10.1486554\ttotal: 404ms\tremaining: 677ms\n",
      "374:\tlearn: 10.1353673\ttotal: 405ms\tremaining: 675ms\n",
      "375:\tlearn: 10.1147416\ttotal: 406ms\tremaining: 673ms\n",
      "376:\tlearn: 10.0775376\ttotal: 406ms\tremaining: 671ms\n",
      "377:\tlearn: 10.0492355\ttotal: 407ms\tremaining: 669ms\n",
      "378:\tlearn: 10.0196511\ttotal: 407ms\tremaining: 668ms\n",
      "379:\tlearn: 9.9910075\ttotal: 408ms\tremaining: 666ms\n",
      "380:\tlearn: 9.9617611\ttotal: 409ms\tremaining: 664ms\n",
      "381:\tlearn: 9.9215712\ttotal: 409ms\tremaining: 662ms\n",
      "382:\tlearn: 9.8879942\ttotal: 410ms\tremaining: 660ms\n",
      "383:\tlearn: 9.8549105\ttotal: 410ms\tremaining: 658ms\n",
      "384:\tlearn: 9.8420882\ttotal: 411ms\tremaining: 656ms\n",
      "385:\tlearn: 9.8219205\ttotal: 411ms\tremaining: 654ms\n",
      "386:\tlearn: 9.8041670\ttotal: 412ms\tremaining: 652ms\n",
      "387:\tlearn: 9.7716069\ttotal: 412ms\tremaining: 651ms\n",
      "388:\tlearn: 9.7414408\ttotal: 413ms\tremaining: 649ms\n",
      "389:\tlearn: 9.7063276\ttotal: 414ms\tremaining: 648ms\n",
      "390:\tlearn: 9.6938997\ttotal: 415ms\tremaining: 646ms\n",
      "391:\tlearn: 9.6815937\ttotal: 415ms\tremaining: 644ms\n",
      "392:\tlearn: 9.6694087\ttotal: 416ms\tremaining: 642ms\n",
      "393:\tlearn: 9.6453231\ttotal: 416ms\tremaining: 640ms\n",
      "394:\tlearn: 9.6258361\ttotal: 417ms\tremaining: 638ms\n",
      "395:\tlearn: 9.6081871\ttotal: 417ms\tremaining: 636ms\n",
      "396:\tlearn: 9.5913287\ttotal: 418ms\tremaining: 635ms\n",
      "397:\tlearn: 9.5794740\ttotal: 418ms\tremaining: 633ms\n",
      "398:\tlearn: 9.5415381\ttotal: 419ms\tremaining: 631ms\n",
      "399:\tlearn: 9.5298199\ttotal: 420ms\tremaining: 629ms\n",
      "400:\tlearn: 9.4999484\ttotal: 420ms\tremaining: 628ms\n",
      "401:\tlearn: 9.4788855\ttotal: 421ms\tremaining: 626ms\n",
      "402:\tlearn: 9.4601004\ttotal: 421ms\tremaining: 624ms\n",
      "403:\tlearn: 9.4438301\ttotal: 422ms\tremaining: 622ms\n",
      "404:\tlearn: 9.4308453\ttotal: 422ms\tremaining: 621ms\n",
      "405:\tlearn: 9.3936860\ttotal: 423ms\tremaining: 619ms\n",
      "406:\tlearn: 9.3625275\ttotal: 423ms\tremaining: 617ms\n",
      "407:\tlearn: 9.3439858\ttotal: 424ms\tremaining: 615ms\n",
      "408:\tlearn: 9.3132499\ttotal: 425ms\tremaining: 614ms\n",
      "409:\tlearn: 9.2948528\ttotal: 425ms\tremaining: 612ms\n",
      "410:\tlearn: 9.2790784\ttotal: 426ms\tremaining: 610ms\n",
      "411:\tlearn: 9.2625441\ttotal: 426ms\tremaining: 609ms\n",
      "412:\tlearn: 9.2321916\ttotal: 427ms\tremaining: 607ms\n",
      "413:\tlearn: 9.2141879\ttotal: 427ms\tremaining: 605ms\n",
      "414:\tlearn: 9.1812524\ttotal: 428ms\tremaining: 603ms\n",
      "415:\tlearn: 9.1703099\ttotal: 429ms\tremaining: 602ms\n",
      "416:\tlearn: 9.1524780\ttotal: 429ms\tremaining: 600ms\n",
      "417:\tlearn: 9.1348129\ttotal: 430ms\tremaining: 599ms\n",
      "418:\tlearn: 9.1240518\ttotal: 431ms\tremaining: 597ms\n",
      "419:\tlearn: 9.1090327\ttotal: 431ms\tremaining: 595ms\n",
      "420:\tlearn: 9.0968978\ttotal: 432ms\tremaining: 594ms\n",
      "421:\tlearn: 9.0795654\ttotal: 432ms\tremaining: 592ms\n",
      "422:\tlearn: 9.0690990\ttotal: 433ms\tremaining: 590ms\n",
      "423:\tlearn: 9.0448651\ttotal: 433ms\tremaining: 589ms\n",
      "424:\tlearn: 9.0277111\ttotal: 434ms\tremaining: 587ms\n",
      "425:\tlearn: 9.0107183\ttotal: 435ms\tremaining: 586ms\n",
      "426:\tlearn: 8.9867271\ttotal: 438ms\tremaining: 587ms\n"
     ]
    },
    {
     "name": "stdout",
     "output_type": "stream",
     "text": [
      "427:\tlearn: 8.9698750\ttotal: 439ms\tremaining: 586ms\n",
      "428:\tlearn: 8.9580965\ttotal: 440ms\tremaining: 585ms\n",
      "429:\tlearn: 8.9343792\ttotal: 440ms\tremaining: 584ms\n",
      "430:\tlearn: 8.9118383\ttotal: 441ms\tremaining: 582ms\n",
      "431:\tlearn: 8.8884051\ttotal: 442ms\tremaining: 581ms\n",
      "432:\tlearn: 8.8718371\ttotal: 442ms\tremaining: 579ms\n",
      "433:\tlearn: 8.8602418\ttotal: 443ms\tremaining: 578ms\n",
      "434:\tlearn: 8.8370761\ttotal: 444ms\tremaining: 576ms\n",
      "435:\tlearn: 8.8206759\ttotal: 444ms\tremaining: 574ms\n",
      "436:\tlearn: 8.8044303\ttotal: 445ms\tremaining: 573ms\n",
      "437:\tlearn: 8.7814956\ttotal: 445ms\tremaining: 571ms\n",
      "438:\tlearn: 8.7653843\ttotal: 446ms\tremaining: 570ms\n",
      "439:\tlearn: 8.7540213\ttotal: 446ms\tremaining: 568ms\n",
      "440:\tlearn: 8.7313471\ttotal: 448ms\tremaining: 568ms\n",
      "441:\tlearn: 8.7153986\ttotal: 449ms\tremaining: 567ms\n",
      "442:\tlearn: 8.6996007\ttotal: 450ms\tremaining: 565ms\n",
      "443:\tlearn: 8.6884212\ttotal: 450ms\tremaining: 564ms\n",
      "444:\tlearn: 8.6659851\ttotal: 451ms\tremaining: 562ms\n",
      "445:\tlearn: 8.6455792\ttotal: 452ms\tremaining: 561ms\n",
      "446:\tlearn: 8.6233581\ttotal: 452ms\tremaining: 560ms\n",
      "447:\tlearn: 8.6078347\ttotal: 453ms\tremaining: 558ms\n",
      "448:\tlearn: 8.5858525\ttotal: 454ms\tremaining: 557ms\n",
      "449:\tlearn: 8.5641253\ttotal: 454ms\tremaining: 555ms\n",
      "450:\tlearn: 8.5487112\ttotal: 455ms\tremaining: 554ms\n",
      "451:\tlearn: 8.5188623\ttotal: 456ms\tremaining: 552ms\n",
      "452:\tlearn: 8.5078794\ttotal: 456ms\tremaining: 551ms\n",
      "453:\tlearn: 8.4879513\ttotal: 457ms\tremaining: 549ms\n",
      "454:\tlearn: 8.4770992\ttotal: 457ms\tremaining: 547ms\n",
      "455:\tlearn: 8.4556603\ttotal: 458ms\tremaining: 546ms\n",
      "456:\tlearn: 8.4344701\ttotal: 458ms\tremaining: 544ms\n",
      "457:\tlearn: 8.4146732\ttotal: 459ms\tremaining: 543ms\n",
      "458:\tlearn: 8.3950712\ttotal: 459ms\tremaining: 541ms\n",
      "459:\tlearn: 8.3740401\ttotal: 460ms\tremaining: 539ms\n",
      "460:\tlearn: 8.3532530\ttotal: 460ms\tremaining: 538ms\n",
      "461:\tlearn: 8.3243061\ttotal: 461ms\tremaining: 536ms\n",
      "462:\tlearn: 8.3095460\ttotal: 461ms\tremaining: 535ms\n",
      "463:\tlearn: 8.2988719\ttotal: 462ms\tremaining: 533ms\n",
      "464:\tlearn: 8.2883033\ttotal: 462ms\tremaining: 532ms\n",
      "465:\tlearn: 8.2596477\ttotal: 463ms\tremaining: 530ms\n",
      "466:\tlearn: 8.2312896\ttotal: 463ms\tremaining: 529ms\n",
      "467:\tlearn: 8.2168581\ttotal: 464ms\tremaining: 527ms\n",
      "468:\tlearn: 8.2063438\ttotal: 464ms\tremaining: 526ms\n",
      "469:\tlearn: 8.1959336\ttotal: 465ms\tremaining: 524ms\n",
      "470:\tlearn: 8.1770901\ttotal: 466ms\tremaining: 523ms\n",
      "471:\tlearn: 8.1628320\ttotal: 466ms\tremaining: 521ms\n",
      "472:\tlearn: 8.1525425\ttotal: 467ms\tremaining: 520ms\n",
      "473:\tlearn: 8.1245832\ttotal: 467ms\tremaining: 519ms\n",
      "474:\tlearn: 8.1143581\ttotal: 468ms\tremaining: 517ms\n",
      "475:\tlearn: 8.0866516\ttotal: 468ms\tremaining: 516ms\n",
      "476:\tlearn: 8.0592327\ttotal: 469ms\tremaining: 514ms\n",
      "477:\tlearn: 8.0490344\ttotal: 470ms\tremaining: 513ms\n",
      "478:\tlearn: 8.0389373\ttotal: 470ms\tremaining: 511ms\n",
      "479:\tlearn: 8.0117289\ttotal: 471ms\tremaining: 510ms\n",
      "480:\tlearn: 7.9979699\ttotal: 471ms\tremaining: 508ms\n",
      "481:\tlearn: 7.9879620\ttotal: 472ms\tremaining: 507ms\n",
      "482:\tlearn: 7.9610628\ttotal: 472ms\tremaining: 506ms\n",
      "483:\tlearn: 7.9511179\ttotal: 473ms\tremaining: 504ms\n",
      "484:\tlearn: 7.9244616\ttotal: 474ms\tremaining: 503ms\n",
      "485:\tlearn: 7.9145795\ttotal: 474ms\tremaining: 501ms\n",
      "486:\tlearn: 7.9011537\ttotal: 475ms\tremaining: 500ms\n",
      "487:\tlearn: 7.8899745\ttotal: 475ms\tremaining: 499ms\n",
      "488:\tlearn: 7.8635848\ttotal: 476ms\tremaining: 497ms\n",
      "489:\tlearn: 7.8454229\ttotal: 477ms\tremaining: 496ms\n",
      "490:\tlearn: 7.8193863\ttotal: 477ms\tremaining: 495ms\n",
      "491:\tlearn: 7.8082613\ttotal: 478ms\tremaining: 493ms\n",
      "492:\tlearn: 7.7950337\ttotal: 478ms\tremaining: 492ms\n",
      "493:\tlearn: 7.7692918\ttotal: 479ms\tremaining: 490ms\n",
      "494:\tlearn: 7.7582265\ttotal: 479ms\tremaining: 489ms\n",
      "495:\tlearn: 7.7451672\ttotal: 480ms\tremaining: 488ms\n",
      "496:\tlearn: 7.7341969\ttotal: 480ms\tremaining: 486ms\n",
      "497:\tlearn: 7.7163876\ttotal: 481ms\tremaining: 485ms\n",
      "498:\tlearn: 7.6909789\ttotal: 482ms\tremaining: 484ms\n",
      "499:\tlearn: 7.6658337\ttotal: 482ms\tremaining: 482ms\n",
      "500:\tlearn: 7.6549158\ttotal: 483ms\tremaining: 481ms\n",
      "501:\tlearn: 7.6420480\ttotal: 483ms\tremaining: 480ms\n",
      "502:\tlearn: 7.6171865\ttotal: 484ms\tremaining: 478ms\n",
      "503:\tlearn: 7.6063273\ttotal: 484ms\tremaining: 477ms\n",
      "504:\tlearn: 7.5936228\ttotal: 485ms\tremaining: 475ms\n",
      "505:\tlearn: 7.5762227\ttotal: 486ms\tremaining: 474ms\n",
      "506:\tlearn: 7.5517165\ttotal: 487ms\tremaining: 473ms\n",
      "507:\tlearn: 7.5409253\ttotal: 487ms\tremaining: 472ms\n",
      "508:\tlearn: 7.5208193\ttotal: 488ms\tremaining: 471ms\n",
      "509:\tlearn: 7.5008984\ttotal: 489ms\tremaining: 469ms\n",
      "510:\tlearn: 7.4912868\ttotal: 489ms\tremaining: 468ms\n",
      "511:\tlearn: 7.4787861\ttotal: 490ms\tremaining: 467ms\n",
      "512:\tlearn: 7.4680711\ttotal: 491ms\tremaining: 466ms\n",
      "513:\tlearn: 7.4556736\ttotal: 491ms\tremaining: 464ms\n",
      "514:\tlearn: 7.4433960\ttotal: 492ms\tremaining: 463ms\n",
      "515:\tlearn: 7.4263708\ttotal: 492ms\tremaining: 462ms\n",
      "516:\tlearn: 7.4157394\ttotal: 493ms\tremaining: 460ms\n",
      "517:\tlearn: 7.3960773\ttotal: 493ms\tremaining: 459ms\n",
      "518:\tlearn: 7.3839017\ttotal: 494ms\tremaining: 458ms\n",
      "519:\tlearn: 7.3745688\ttotal: 494ms\tremaining: 456ms\n",
      "520:\tlearn: 7.3577842\ttotal: 495ms\tremaining: 455ms\n",
      "521:\tlearn: 7.3457366\ttotal: 496ms\tremaining: 454ms\n",
      "522:\tlearn: 7.3352001\ttotal: 496ms\tremaining: 453ms\n",
      "523:\tlearn: 7.3158041\ttotal: 497ms\tremaining: 451ms\n",
      "524:\tlearn: 7.3038695\ttotal: 498ms\tremaining: 451ms\n",
      "525:\tlearn: 7.2933958\ttotal: 499ms\tremaining: 449ms\n",
      "526:\tlearn: 7.2768520\ttotal: 499ms\tremaining: 448ms\n",
      "527:\tlearn: 7.2576919\ttotal: 500ms\tremaining: 447ms\n",
      "528:\tlearn: 7.2458555\ttotal: 500ms\tremaining: 446ms\n",
      "529:\tlearn: 7.2354530\ttotal: 501ms\tremaining: 444ms\n",
      "530:\tlearn: 7.2237144\ttotal: 502ms\tremaining: 443ms\n",
      "531:\tlearn: 7.2047293\ttotal: 502ms\tremaining: 442ms\n",
      "532:\tlearn: 7.1955564\ttotal: 503ms\tremaining: 440ms\n",
      "533:\tlearn: 7.1810542\ttotal: 503ms\tremaining: 439ms\n",
      "534:\tlearn: 7.1647715\ttotal: 504ms\tremaining: 438ms\n",
      "535:\tlearn: 7.1544733\ttotal: 504ms\tremaining: 437ms\n",
      "536:\tlearn: 7.1383728\ttotal: 505ms\tremaining: 435ms\n",
      "537:\tlearn: 7.1196901\ttotal: 506ms\tremaining: 434ms\n",
      "538:\tlearn: 7.1081455\ttotal: 506ms\tremaining: 433ms\n",
      "539:\tlearn: 7.0990777\ttotal: 507ms\tremaining: 432ms\n",
      "540:\tlearn: 7.0805552\ttotal: 507ms\tremaining: 430ms\n",
      "541:\tlearn: 7.0703542\ttotal: 508ms\tremaining: 429ms\n",
      "542:\tlearn: 7.0589057\ttotal: 508ms\tremaining: 428ms\n",
      "543:\tlearn: 7.0430861\ttotal: 509ms\tremaining: 427ms\n",
      "544:\tlearn: 7.0199335\ttotal: 510ms\tremaining: 426ms\n",
      "545:\tlearn: 7.0097964\ttotal: 510ms\tremaining: 424ms\n",
      "546:\tlearn: 6.9984454\ttotal: 511ms\tremaining: 423ms\n",
      "547:\tlearn: 6.9872042\ttotal: 512ms\tremaining: 422ms\n",
      "548:\tlearn: 6.9771376\ttotal: 512ms\tremaining: 421ms\n",
      "549:\tlearn: 6.9615600\ttotal: 513ms\tremaining: 420ms\n",
      "550:\tlearn: 6.9434787\ttotal: 513ms\tremaining: 418ms\n",
      "551:\tlearn: 6.9323281\ttotal: 514ms\tremaining: 417ms\n",
      "552:\tlearn: 6.9233893\ttotal: 514ms\tremaining: 416ms\n",
      "553:\tlearn: 6.9054619\ttotal: 515ms\tremaining: 415ms\n",
      "554:\tlearn: 6.8954903\ttotal: 516ms\tremaining: 413ms\n",
      "555:\tlearn: 6.8844315\ttotal: 516ms\tremaining: 412ms\n",
      "556:\tlearn: 6.8691255\ttotal: 517ms\tremaining: 411ms\n",
      "557:\tlearn: 6.8553914\ttotal: 517ms\tremaining: 410ms\n",
      "558:\tlearn: 6.8465647\ttotal: 518ms\tremaining: 408ms\n",
      "559:\tlearn: 6.8313861\ttotal: 518ms\tremaining: 407ms\n",
      "560:\tlearn: 6.8137544\ttotal: 519ms\tremaining: 406ms\n",
      "561:\tlearn: 6.8038901\ttotal: 519ms\tremaining: 405ms\n",
      "562:\tlearn: 6.7863958\ttotal: 520ms\tremaining: 404ms\n",
      "563:\tlearn: 6.7755149\ttotal: 521ms\tremaining: 403ms\n",
      "564:\tlearn: 6.7657099\ttotal: 521ms\tremaining: 401ms\n",
      "565:\tlearn: 6.7549184\ttotal: 522ms\tremaining: 400ms\n",
      "566:\tlearn: 6.7400229\ttotal: 523ms\tremaining: 399ms\n",
      "567:\tlearn: 6.7227499\ttotal: 523ms\tremaining: 398ms\n",
      "568:\tlearn: 6.7143631\ttotal: 524ms\tremaining: 397ms\n",
      "569:\tlearn: 6.6995580\ttotal: 524ms\tremaining: 396ms\n",
      "570:\tlearn: 6.6909000\ttotal: 525ms\tremaining: 394ms\n",
      "571:\tlearn: 6.6761783\ttotal: 526ms\tremaining: 393ms\n",
      "572:\tlearn: 6.6655443\ttotal: 526ms\tremaining: 392ms\n",
      "573:\tlearn: 6.6572714\ttotal: 527ms\tremaining: 391ms\n",
      "574:\tlearn: 6.6402165\ttotal: 527ms\tremaining: 390ms\n",
      "575:\tlearn: 6.6296816\ttotal: 528ms\tremaining: 388ms\n",
      "576:\tlearn: 6.6214603\ttotal: 528ms\tremaining: 387ms\n",
      "577:\tlearn: 6.6069226\ttotal: 529ms\tremaining: 386ms\n",
      "578:\tlearn: 6.5900771\ttotal: 529ms\tremaining: 385ms\n",
      "579:\tlearn: 6.5758847\ttotal: 530ms\tremaining: 384ms\n",
      "580:\tlearn: 6.5673892\ttotal: 531ms\tremaining: 383ms\n",
      "581:\tlearn: 6.5419050\ttotal: 531ms\tremaining: 381ms\n",
      "582:\tlearn: 6.5252588\ttotal: 532ms\tremaining: 380ms\n",
      "583:\tlearn: 6.5111908\ttotal: 533ms\tremaining: 380ms\n",
      "584:\tlearn: 6.4861093\ttotal: 534ms\tremaining: 379ms\n",
      "585:\tlearn: 6.4651453\ttotal: 534ms\tremaining: 377ms\n",
      "586:\tlearn: 6.4512126\ttotal: 535ms\tremaining: 376ms\n",
      "587:\tlearn: 6.4265620\ttotal: 535ms\tremaining: 375ms\n",
      "588:\tlearn: 6.4103616\ttotal: 536ms\tremaining: 374ms\n",
      "589:\tlearn: 6.3943119\ttotal: 537ms\tremaining: 373ms\n",
      "590:\tlearn: 6.3701230\ttotal: 537ms\tremaining: 372ms\n",
      "591:\tlearn: 6.3542439\ttotal: 538ms\tremaining: 371ms\n",
      "592:\tlearn: 6.3404721\ttotal: 538ms\tremaining: 369ms\n",
      "593:\tlearn: 6.3166655\ttotal: 539ms\tremaining: 368ms\n",
      "594:\tlearn: 6.3009954\ttotal: 539ms\tremaining: 367ms\n",
      "595:\tlearn: 6.2873511\ttotal: 540ms\tremaining: 366ms\n",
      "596:\tlearn: 6.2639206\ttotal: 541ms\tremaining: 365ms\n",
      "597:\tlearn: 6.2441907\ttotal: 541ms\tremaining: 364ms\n",
      "598:\tlearn: 6.2306748\ttotal: 542ms\tremaining: 363ms\n",
      "599:\tlearn: 6.2076464\ttotal: 542ms\tremaining: 361ms\n",
      "600:\tlearn: 6.1923974\ttotal: 543ms\tremaining: 360ms\n",
      "601:\tlearn: 6.1772915\ttotal: 544ms\tremaining: 359ms\n",
      "602:\tlearn: 6.1639369\ttotal: 544ms\tremaining: 358ms\n",
      "603:\tlearn: 6.1412922\ttotal: 545ms\tremaining: 357ms\n",
      "604:\tlearn: 6.1263854\ttotal: 545ms\tremaining: 356ms\n",
      "605:\tlearn: 6.1041468\ttotal: 546ms\tremaining: 355ms\n",
      "606:\tlearn: 6.0832852\ttotal: 546ms\tremaining: 354ms\n",
      "607:\tlearn: 6.0700775\ttotal: 547ms\tremaining: 353ms\n",
      "608:\tlearn: 6.0481654\ttotal: 547ms\tremaining: 352ms\n",
      "609:\tlearn: 6.0336190\ttotal: 548ms\tremaining: 350ms\n",
      "610:\tlearn: 6.0205306\ttotal: 549ms\tremaining: 349ms\n",
      "611:\tlearn: 5.9989649\ttotal: 549ms\tremaining: 348ms\n",
      "612:\tlearn: 5.9786598\ttotal: 550ms\tremaining: 347ms\n",
      "613:\tlearn: 5.9574579\ttotal: 551ms\tremaining: 346ms\n",
      "614:\tlearn: 5.9432642\ttotal: 551ms\tremaining: 345ms\n",
      "615:\tlearn: 5.9233662\ttotal: 552ms\tremaining: 344ms\n",
      "616:\tlearn: 5.9025411\ttotal: 552ms\tremaining: 343ms\n",
      "617:\tlearn: 5.8886394\ttotal: 553ms\tremaining: 342ms\n",
      "618:\tlearn: 5.8757542\ttotal: 553ms\tremaining: 341ms\n",
      "619:\tlearn: 5.8552590\ttotal: 554ms\tremaining: 340ms\n",
      "620:\tlearn: 5.8358265\ttotal: 555ms\tremaining: 339ms\n",
      "621:\tlearn: 5.8156788\ttotal: 555ms\tremaining: 337ms\n",
      "622:\tlearn: 5.7965037\ttotal: 556ms\tremaining: 336ms\n",
      "623:\tlearn: 5.7837937\ttotal: 556ms\tremaining: 335ms\n",
      "624:\tlearn: 5.7639439\ttotal: 557ms\tremaining: 334ms\n",
      "625:\tlearn: 5.7505677\ttotal: 558ms\tremaining: 333ms\n",
      "626:\tlearn: 5.7310767\ttotal: 558ms\tremaining: 332ms\n",
      "627:\tlearn: 5.7123539\ttotal: 559ms\tremaining: 331ms\n",
      "628:\tlearn: 5.6997820\ttotal: 559ms\tremaining: 330ms\n",
      "629:\tlearn: 5.6805797\ttotal: 560ms\tremaining: 329ms\n",
      "630:\tlearn: 5.6675313\ttotal: 561ms\tremaining: 328ms\n",
      "631:\tlearn: 5.6492557\ttotal: 561ms\tremaining: 327ms\n",
      "632:\tlearn: 5.6303979\ttotal: 562ms\tremaining: 326ms\n",
      "633:\tlearn: 5.6179625\ttotal: 562ms\tremaining: 325ms\n",
      "634:\tlearn: 5.6115893\ttotal: 563ms\tremaining: 324ms\n",
      "635:\tlearn: 5.5992852\ttotal: 563ms\tremaining: 322ms\n",
      "636:\tlearn: 5.5929857\ttotal: 564ms\tremaining: 321ms\n",
      "637:\tlearn: 5.5808113\ttotal: 565ms\tremaining: 320ms\n",
      "638:\tlearn: 5.5745848\ttotal: 566ms\tremaining: 320ms\n",
      "639:\tlearn: 5.5625387\ttotal: 566ms\tremaining: 318ms\n",
      "640:\tlearn: 5.5561072\ttotal: 567ms\tremaining: 317ms\n",
      "641:\tlearn: 5.5497395\ttotal: 567ms\tremaining: 316ms\n",
      "642:\tlearn: 5.5378282\ttotal: 568ms\tremaining: 315ms\n",
      "643:\tlearn: 5.5256013\ttotal: 568ms\tremaining: 314ms\n",
      "644:\tlearn: 5.5192925\ttotal: 569ms\tremaining: 313ms\n",
      "645:\tlearn: 5.5074760\ttotal: 570ms\tremaining: 312ms\n",
      "646:\tlearn: 5.5012379\ttotal: 570ms\tremaining: 311ms\n"
     ]
    },
    {
     "name": "stdout",
     "output_type": "stream",
     "text": [
      "647:\tlearn: 5.4890921\ttotal: 571ms\tremaining: 310ms\n",
      "648:\tlearn: 5.4773695\ttotal: 571ms\tremaining: 309ms\n",
      "649:\tlearn: 5.4711889\ttotal: 572ms\tremaining: 308ms\n",
      "650:\tlearn: 5.4591361\ttotal: 573ms\tremaining: 307ms\n",
      "651:\tlearn: 5.4475065\ttotal: 574ms\tremaining: 306ms\n",
      "652:\tlearn: 5.4413827\ttotal: 574ms\tremaining: 305ms\n",
      "653:\tlearn: 5.4294222\ttotal: 575ms\tremaining: 304ms\n",
      "654:\tlearn: 5.4178846\ttotal: 575ms\tremaining: 303ms\n",
      "655:\tlearn: 5.4074599\ttotal: 576ms\tremaining: 302ms\n",
      "656:\tlearn: 5.4014464\ttotal: 577ms\tremaining: 301ms\n",
      "657:\tlearn: 5.3900059\ttotal: 578ms\tremaining: 300ms\n",
      "658:\tlearn: 5.3780966\ttotal: 578ms\tremaining: 299ms\n",
      "659:\tlearn: 5.3721383\ttotal: 579ms\tremaining: 298ms\n",
      "660:\tlearn: 5.3607878\ttotal: 580ms\tremaining: 297ms\n",
      "661:\tlearn: 5.3489698\ttotal: 580ms\tremaining: 296ms\n",
      "662:\tlearn: 5.3424767\ttotal: 581ms\tremaining: 295ms\n",
      "663:\tlearn: 5.3311944\ttotal: 581ms\tremaining: 294ms\n",
      "664:\tlearn: 5.3194669\ttotal: 582ms\tremaining: 293ms\n",
      "665:\tlearn: 5.3135976\ttotal: 582ms\tremaining: 292ms\n",
      "666:\tlearn: 5.3024036\ttotal: 583ms\tremaining: 291ms\n",
      "667:\tlearn: 5.2959772\ttotal: 583ms\tremaining: 290ms\n",
      "668:\tlearn: 5.2843277\ttotal: 584ms\tremaining: 289ms\n",
      "669:\tlearn: 5.2779560\ttotal: 585ms\tremaining: 288ms\n",
      "670:\tlearn: 5.2668152\ttotal: 585ms\tremaining: 287ms\n",
      "671:\tlearn: 5.2610831\ttotal: 586ms\tremaining: 286ms\n",
      "672:\tlearn: 5.2495113\ttotal: 586ms\tremaining: 285ms\n",
      "673:\tlearn: 5.2384574\ttotal: 587ms\tremaining: 284ms\n",
      "674:\tlearn: 5.2321503\ttotal: 588ms\tremaining: 283ms\n",
      "675:\tlearn: 5.2206667\ttotal: 589ms\tremaining: 282ms\n",
      "676:\tlearn: 5.2096786\ttotal: 589ms\tremaining: 281ms\n",
      "677:\tlearn: 5.2040320\ttotal: 590ms\tremaining: 280ms\n",
      "678:\tlearn: 5.1978021\ttotal: 591ms\tremaining: 279ms\n",
      "679:\tlearn: 5.1869141\ttotal: 591ms\tremaining: 278ms\n",
      "680:\tlearn: 5.1754787\ttotal: 592ms\tremaining: 277ms\n",
      "681:\tlearn: 5.1692879\ttotal: 592ms\tremaining: 276ms\n",
      "682:\tlearn: 5.1584645\ttotal: 593ms\tremaining: 275ms\n",
      "683:\tlearn: 5.1471162\ttotal: 593ms\tremaining: 274ms\n",
      "684:\tlearn: 5.1415906\ttotal: 594ms\tremaining: 273ms\n",
      "685:\tlearn: 5.1308508\ttotal: 595ms\tremaining: 272ms\n",
      "686:\tlearn: 5.1195899\ttotal: 595ms\tremaining: 271ms\n",
      "687:\tlearn: 5.1134493\ttotal: 596ms\tremaining: 270ms\n",
      "688:\tlearn: 5.1073718\ttotal: 597ms\tremaining: 269ms\n",
      "689:\tlearn: 5.0966824\ttotal: 597ms\tremaining: 268ms\n",
      "690:\tlearn: 5.0854955\ttotal: 598ms\tremaining: 267ms\n",
      "691:\tlearn: 5.0794558\ttotal: 598ms\tremaining: 266ms\n",
      "692:\tlearn: 5.0688295\ttotal: 599ms\tremaining: 265ms\n",
      "693:\tlearn: 5.0577277\ttotal: 599ms\tremaining: 264ms\n",
      "694:\tlearn: 5.0523517\ttotal: 600ms\tremaining: 263ms\n",
      "695:\tlearn: 5.0411634\ttotal: 600ms\tremaining: 262ms\n",
      "696:\tlearn: 5.0301528\ttotal: 601ms\tremaining: 261ms\n",
      "697:\tlearn: 5.0241608\ttotal: 601ms\tremaining: 260ms\n",
      "698:\tlearn: 5.0130430\ttotal: 602ms\tremaining: 259ms\n",
      "699:\tlearn: 5.0070992\ttotal: 603ms\tremaining: 258ms\n",
      "700:\tlearn: 4.9961663\ttotal: 603ms\tremaining: 257ms\n",
      "701:\tlearn: 4.9909041\ttotal: 604ms\tremaining: 256ms\n",
      "702:\tlearn: 4.9798614\ttotal: 604ms\tremaining: 255ms\n",
      "703:\tlearn: 4.9739884\ttotal: 605ms\tremaining: 254ms\n",
      "704:\tlearn: 4.9631339\ttotal: 605ms\tremaining: 253ms\n",
      "705:\tlearn: 4.9521605\ttotal: 606ms\tremaining: 252ms\n",
      "706:\tlearn: 4.9463231\ttotal: 606ms\tremaining: 251ms\n",
      "707:\tlearn: 4.9354401\ttotal: 607ms\tremaining: 250ms\n",
      "708:\tlearn: 4.9246520\ttotal: 607ms\tremaining: 249ms\n",
      "709:\tlearn: 4.9188499\ttotal: 608ms\tremaining: 248ms\n",
      "710:\tlearn: 4.9131070\ttotal: 608ms\tremaining: 247ms\n",
      "711:\tlearn: 4.9022791\ttotal: 609ms\tremaining: 246ms\n",
      "712:\tlearn: 4.8915670\ttotal: 610ms\tremaining: 245ms\n",
      "713:\tlearn: 4.8864842\ttotal: 610ms\tremaining: 244ms\n",
      "714:\tlearn: 4.8757417\ttotal: 611ms\tremaining: 243ms\n",
      "715:\tlearn: 4.8651179\ttotal: 611ms\tremaining: 242ms\n",
      "716:\tlearn: 4.8594189\ttotal: 612ms\tremaining: 241ms\n",
      "717:\tlearn: 4.8487436\ttotal: 612ms\tremaining: 240ms\n",
      "718:\tlearn: 4.8382057\ttotal: 613ms\tremaining: 239ms\n",
      "719:\tlearn: 4.8325409\ttotal: 613ms\tremaining: 239ms\n",
      "720:\tlearn: 4.8219322\ttotal: 614ms\tremaining: 238ms\n",
      "721:\tlearn: 4.8163124\ttotal: 614ms\tremaining: 237ms\n",
      "722:\tlearn: 4.8058486\ttotal: 615ms\tremaining: 236ms\n",
      "723:\tlearn: 4.7922416\ttotal: 616ms\tremaining: 235ms\n",
      "724:\tlearn: 4.7866492\ttotal: 617ms\tremaining: 234ms\n",
      "725:\tlearn: 4.7762709\ttotal: 618ms\tremaining: 233ms\n",
      "726:\tlearn: 4.7707244\ttotal: 618ms\tremaining: 232ms\n",
      "727:\tlearn: 4.7572312\ttotal: 619ms\tremaining: 231ms\n",
      "728:\tlearn: 4.7517226\ttotal: 619ms\tremaining: 230ms\n",
      "729:\tlearn: 4.7414180\ttotal: 620ms\tremaining: 229ms\n",
      "730:\tlearn: 4.7280556\ttotal: 620ms\tremaining: 228ms\n",
      "731:\tlearn: 4.7225739\ttotal: 621ms\tremaining: 227ms\n",
      "732:\tlearn: 4.7171481\ttotal: 621ms\tremaining: 226ms\n",
      "733:\tlearn: 4.7069165\ttotal: 622ms\tremaining: 225ms\n",
      "734:\tlearn: 4.6936650\ttotal: 623ms\tremaining: 224ms\n",
      "735:\tlearn: 4.6882656\ttotal: 623ms\tremaining: 224ms\n",
      "736:\tlearn: 4.6781172\ttotal: 624ms\tremaining: 223ms\n",
      "737:\tlearn: 4.6649933\ttotal: 624ms\tremaining: 222ms\n",
      "738:\tlearn: 4.6596204\ttotal: 625ms\tremaining: 221ms\n",
      "739:\tlearn: 4.6543022\ttotal: 625ms\tremaining: 220ms\n",
      "740:\tlearn: 4.6442256\ttotal: 626ms\tremaining: 219ms\n",
      "741:\tlearn: 4.6312098\ttotal: 626ms\tremaining: 218ms\n",
      "742:\tlearn: 4.6259177\ttotal: 627ms\tremaining: 217ms\n",
      "743:\tlearn: 4.6159227\ttotal: 627ms\tremaining: 216ms\n",
      "744:\tlearn: 4.6030314\ttotal: 628ms\tremaining: 215ms\n",
      "745:\tlearn: 4.5977653\ttotal: 629ms\tremaining: 214ms\n",
      "746:\tlearn: 4.5925529\ttotal: 629ms\tremaining: 213ms\n",
      "747:\tlearn: 4.5797876\ttotal: 630ms\tremaining: 212ms\n",
      "748:\tlearn: 4.5698426\ttotal: 630ms\tremaining: 211ms\n",
      "749:\tlearn: 4.5646558\ttotal: 631ms\tremaining: 210ms\n",
      "750:\tlearn: 4.5520117\ttotal: 631ms\tremaining: 209ms\n",
      "751:\tlearn: 4.5421469\ttotal: 632ms\tremaining: 208ms\n",
      "752:\tlearn: 4.5369857\ttotal: 632ms\tremaining: 207ms\n",
      "753:\tlearn: 4.5318772\ttotal: 633ms\tremaining: 207ms\n",
      "754:\tlearn: 4.5193359\ttotal: 634ms\tremaining: 206ms\n",
      "755:\tlearn: 4.5095404\ttotal: 634ms\tremaining: 205ms\n",
      "756:\tlearn: 4.5044571\ttotal: 635ms\tremaining: 204ms\n",
      "757:\tlearn: 4.4920342\ttotal: 635ms\tremaining: 203ms\n",
      "758:\tlearn: 4.4823175\ttotal: 636ms\tremaining: 202ms\n",
      "759:\tlearn: 4.4772595\ttotal: 636ms\tremaining: 201ms\n",
      "760:\tlearn: 4.4722530\ttotal: 637ms\tremaining: 200ms\n",
      "761:\tlearn: 4.4627712\ttotal: 637ms\tremaining: 199ms\n",
      "762:\tlearn: 4.4531199\ttotal: 638ms\tremaining: 198ms\n",
      "763:\tlearn: 4.4481433\ttotal: 638ms\tremaining: 197ms\n",
      "764:\tlearn: 4.4358804\ttotal: 639ms\tremaining: 196ms\n",
      "765:\tlearn: 4.4263066\ttotal: 640ms\tremaining: 195ms\n",
      "766:\tlearn: 4.4213547\ttotal: 641ms\tremaining: 195ms\n",
      "767:\tlearn: 4.4119901\ttotal: 641ms\tremaining: 194ms\n",
      "768:\tlearn: 4.4070774\ttotal: 642ms\tremaining: 193ms\n",
      "769:\tlearn: 4.3975680\ttotal: 642ms\tremaining: 192ms\n",
      "770:\tlearn: 4.3882583\ttotal: 643ms\tremaining: 191ms\n",
      "771:\tlearn: 4.3737363\ttotal: 643ms\tremaining: 190ms\n",
      "772:\tlearn: 4.3644827\ttotal: 644ms\tremaining: 189ms\n",
      "773:\tlearn: 4.3550833\ttotal: 645ms\tremaining: 188ms\n",
      "774:\tlearn: 4.3502375\ttotal: 645ms\tremaining: 187ms\n",
      "775:\tlearn: 4.3382762\ttotal: 646ms\tremaining: 186ms\n",
      "776:\tlearn: 4.3289523\ttotal: 646ms\tremaining: 185ms\n",
      "777:\tlearn: 4.3241306\ttotal: 647ms\tremaining: 185ms\n",
      "778:\tlearn: 4.3193582\ttotal: 647ms\tremaining: 184ms\n",
      "779:\tlearn: 4.3102079\ttotal: 648ms\tremaining: 183ms\n",
      "780:\tlearn: 4.3009469\ttotal: 648ms\tremaining: 182ms\n",
      "781:\tlearn: 4.2869053\ttotal: 649ms\tremaining: 181ms\n",
      "782:\tlearn: 4.2737411\ttotal: 649ms\tremaining: 180ms\n",
      "783:\tlearn: 4.2642817\ttotal: 650ms\tremaining: 179ms\n",
      "784:\tlearn: 4.2595681\ttotal: 651ms\tremaining: 178ms\n",
      "785:\tlearn: 4.2504713\ttotal: 651ms\tremaining: 177ms\n",
      "786:\tlearn: 4.2410706\ttotal: 652ms\tremaining: 176ms\n",
      "787:\tlearn: 4.2363853\ttotal: 652ms\tremaining: 175ms\n",
      "788:\tlearn: 4.2234808\ttotal: 653ms\tremaining: 175ms\n",
      "789:\tlearn: 4.2098232\ttotal: 653ms\tremaining: 174ms\n",
      "790:\tlearn: 4.1970943\ttotal: 654ms\tremaining: 173ms\n",
      "791:\tlearn: 4.1878307\ttotal: 655ms\tremaining: 172ms\n",
      "792:\tlearn: 4.1744025\ttotal: 655ms\tremaining: 171ms\n",
      "793:\tlearn: 4.1618838\ttotal: 656ms\tremaining: 170ms\n",
      "794:\tlearn: 4.1504510\ttotal: 656ms\tremaining: 169ms\n",
      "795:\tlearn: 4.1413225\ttotal: 657ms\tremaining: 168ms\n",
      "796:\tlearn: 4.1281344\ttotal: 657ms\tremaining: 167ms\n",
      "797:\tlearn: 4.1190769\ttotal: 658ms\tremaining: 167ms\n",
      "798:\tlearn: 4.1102885\ttotal: 659ms\tremaining: 166ms\n",
      "799:\tlearn: 4.1012974\ttotal: 659ms\tremaining: 165ms\n",
      "800:\tlearn: 4.0942407\ttotal: 660ms\tremaining: 164ms\n",
      "801:\tlearn: 4.0855170\ttotal: 660ms\tremaining: 163ms\n",
      "802:\tlearn: 4.0743705\ttotal: 661ms\tremaining: 162ms\n",
      "803:\tlearn: 4.0673598\ttotal: 661ms\tremaining: 161ms\n",
      "804:\tlearn: 4.0585102\ttotal: 662ms\tremaining: 160ms\n",
      "805:\tlearn: 4.0498880\ttotal: 663ms\tremaining: 160ms\n",
      "806:\tlearn: 4.0453263\ttotal: 664ms\tremaining: 159ms\n",
      "807:\tlearn: 4.0408112\ttotal: 664ms\tremaining: 158ms\n",
      "808:\tlearn: 4.0320067\ttotal: 665ms\tremaining: 157ms\n",
      "809:\tlearn: 4.0234458\ttotal: 665ms\tremaining: 156ms\n",
      "810:\tlearn: 4.0165944\ttotal: 666ms\tremaining: 155ms\n",
      "811:\tlearn: 4.0076448\ttotal: 667ms\tremaining: 154ms\n",
      "812:\tlearn: 4.0031767\ttotal: 667ms\tremaining: 153ms\n",
      "813:\tlearn: 3.9944695\ttotal: 668ms\tremaining: 153ms\n",
      "814:\tlearn: 3.9859989\ttotal: 669ms\tremaining: 152ms\n",
      "815:\tlearn: 3.9815582\ttotal: 670ms\tremaining: 151ms\n",
      "816:\tlearn: 3.9729052\ttotal: 670ms\tremaining: 150ms\n",
      "817:\tlearn: 3.9645035\ttotal: 671ms\tremaining: 149ms\n",
      "818:\tlearn: 3.9600898\ttotal: 672ms\tremaining: 148ms\n",
      "819:\tlearn: 3.9493161\ttotal: 672ms\tremaining: 147ms\n",
      "820:\tlearn: 3.9407425\ttotal: 672ms\tremaining: 147ms\n",
      "821:\tlearn: 3.9363519\ttotal: 673ms\tremaining: 146ms\n",
      "822:\tlearn: 3.9278492\ttotal: 674ms\tremaining: 145ms\n",
      "823:\tlearn: 3.9234939\ttotal: 674ms\tremaining: 144ms\n",
      "824:\tlearn: 3.9151617\ttotal: 675ms\tremaining: 143ms\n",
      "825:\tlearn: 3.9067119\ttotal: 676ms\tremaining: 142ms\n",
      "826:\tlearn: 3.9023830\ttotal: 676ms\tremaining: 141ms\n",
      "827:\tlearn: 3.8941186\ttotal: 677ms\tremaining: 141ms\n",
      "828:\tlearn: 3.8819164\ttotal: 677ms\tremaining: 140ms\n",
      "829:\tlearn: 3.8733352\ttotal: 678ms\tremaining: 139ms\n",
      "830:\tlearn: 3.8649418\ttotal: 678ms\tremaining: 138ms\n",
      "831:\tlearn: 3.8572996\ttotal: 679ms\tremaining: 137ms\n",
      "832:\tlearn: 3.8489717\ttotal: 679ms\tremaining: 136ms\n",
      "833:\tlearn: 3.8408611\ttotal: 680ms\tremaining: 135ms\n",
      "834:\tlearn: 3.8325941\ttotal: 681ms\tremaining: 134ms\n",
      "835:\tlearn: 3.8261076\ttotal: 681ms\tremaining: 134ms\n",
      "836:\tlearn: 3.8185700\ttotal: 682ms\tremaining: 133ms\n",
      "837:\tlearn: 3.8105410\ttotal: 683ms\tremaining: 132ms\n",
      "838:\tlearn: 3.8023448\ttotal: 684ms\tremaining: 131ms\n",
      "839:\tlearn: 3.7943893\ttotal: 685ms\tremaining: 131ms\n",
      "840:\tlearn: 3.7879961\ttotal: 686ms\tremaining: 130ms\n",
      "841:\tlearn: 3.7796024\ttotal: 687ms\tremaining: 129ms\n",
      "842:\tlearn: 3.7712445\ttotal: 688ms\tremaining: 128ms\n",
      "843:\tlearn: 3.7638549\ttotal: 689ms\tremaining: 127ms\n",
      "844:\tlearn: 3.7557307\ttotal: 690ms\tremaining: 127ms\n",
      "845:\tlearn: 3.7479618\ttotal: 691ms\tremaining: 126ms\n",
      "846:\tlearn: 3.7398973\ttotal: 692ms\tremaining: 125ms\n",
      "847:\tlearn: 3.7336009\ttotal: 692ms\tremaining: 124ms\n",
      "848:\tlearn: 3.7258892\ttotal: 693ms\tremaining: 123ms\n",
      "849:\tlearn: 3.7157763\ttotal: 693ms\tremaining: 122ms\n",
      "850:\tlearn: 3.7076447\ttotal: 694ms\tremaining: 122ms\n",
      "851:\tlearn: 3.6964225\ttotal: 694ms\tremaining: 121ms\n",
      "852:\tlearn: 3.6884284\ttotal: 695ms\tremaining: 120ms\n",
      "853:\tlearn: 3.6822107\ttotal: 696ms\tremaining: 119ms\n",
      "854:\tlearn: 3.6749956\ttotal: 696ms\tremaining: 118ms\n",
      "855:\tlearn: 3.6669162\ttotal: 697ms\tremaining: 117ms\n",
      "856:\tlearn: 3.6590239\ttotal: 697ms\tremaining: 116ms\n",
      "857:\tlearn: 3.6518639\ttotal: 698ms\tremaining: 116ms\n",
      "858:\tlearn: 3.6440333\ttotal: 699ms\tremaining: 115ms\n",
      "859:\tlearn: 3.6361625\ttotal: 699ms\tremaining: 114ms\n",
      "860:\tlearn: 3.6283843\ttotal: 700ms\tremaining: 113ms\n"
     ]
    },
    {
     "name": "stdout",
     "output_type": "stream",
     "text": [
      "861:\tlearn: 3.6206006\ttotal: 701ms\tremaining: 112ms\n",
      "862:\tlearn: 3.6132511\ttotal: 701ms\tremaining: 111ms\n",
      "863:\tlearn: 3.6071551\ttotal: 702ms\tremaining: 110ms\n",
      "864:\tlearn: 3.5992624\ttotal: 703ms\tremaining: 110ms\n",
      "865:\tlearn: 3.5932233\ttotal: 704ms\tremaining: 109ms\n",
      "866:\tlearn: 3.5854153\ttotal: 705ms\tremaining: 108ms\n",
      "867:\tlearn: 3.5757598\ttotal: 705ms\tremaining: 107ms\n",
      "868:\tlearn: 3.5681029\ttotal: 706ms\tremaining: 106ms\n",
      "869:\tlearn: 3.5603814\ttotal: 706ms\tremaining: 106ms\n",
      "870:\tlearn: 3.5573590\ttotal: 707ms\tremaining: 105ms\n",
      "871:\tlearn: 3.5497539\ttotal: 708ms\tremaining: 104ms\n",
      "872:\tlearn: 3.5467573\ttotal: 708ms\tremaining: 103ms\n",
      "873:\tlearn: 3.5390805\ttotal: 709ms\tremaining: 102ms\n",
      "874:\tlearn: 3.5315266\ttotal: 709ms\tremaining: 101ms\n",
      "875:\tlearn: 3.5285488\ttotal: 710ms\tremaining: 100ms\n",
      "876:\tlearn: 3.5209232\ttotal: 710ms\tremaining: 99.6ms\n",
      "877:\tlearn: 3.5118492\ttotal: 711ms\tremaining: 98.8ms\n",
      "878:\tlearn: 3.5077661\ttotal: 711ms\tremaining: 97.9ms\n",
      "879:\tlearn: 3.5002736\ttotal: 712ms\tremaining: 97.1ms\n",
      "880:\tlearn: 3.4973354\ttotal: 713ms\tremaining: 96.3ms\n",
      "881:\tlearn: 3.4904808\ttotal: 713ms\tremaining: 95.4ms\n",
      "882:\tlearn: 3.4830403\ttotal: 714ms\tremaining: 94.6ms\n",
      "883:\tlearn: 3.4760200\ttotal: 715ms\tremaining: 93.8ms\n",
      "884:\tlearn: 3.4686341\ttotal: 716ms\tremaining: 93ms\n",
      "885:\tlearn: 3.4616784\ttotal: 716ms\tremaining: 92.2ms\n",
      "886:\tlearn: 3.4587696\ttotal: 717ms\tremaining: 91.3ms\n",
      "887:\tlearn: 3.4514320\ttotal: 717ms\tremaining: 90.5ms\n",
      "888:\tlearn: 3.4441867\ttotal: 718ms\tremaining: 89.6ms\n",
      "889:\tlearn: 3.4401746\ttotal: 718ms\tremaining: 88.8ms\n",
      "890:\tlearn: 3.4328848\ttotal: 719ms\tremaining: 87.9ms\n",
      "891:\tlearn: 3.4253117\ttotal: 719ms\tremaining: 87.1ms\n",
      "892:\tlearn: 3.4185039\ttotal: 720ms\tremaining: 86.3ms\n",
      "893:\tlearn: 3.4127462\ttotal: 720ms\tremaining: 85.4ms\n",
      "894:\tlearn: 3.4039616\ttotal: 721ms\tremaining: 84.6ms\n",
      "895:\tlearn: 3.4011052\ttotal: 722ms\tremaining: 83.8ms\n",
      "896:\tlearn: 3.3938945\ttotal: 723ms\tremaining: 83ms\n",
      "897:\tlearn: 3.3823292\ttotal: 723ms\tremaining: 82.1ms\n",
      "898:\tlearn: 3.3756324\ttotal: 724ms\tremaining: 81.3ms\n",
      "899:\tlearn: 3.3684522\ttotal: 724ms\tremaining: 80.5ms\n",
      "900:\tlearn: 3.3656177\ttotal: 725ms\tremaining: 79.6ms\n",
      "901:\tlearn: 3.3589772\ttotal: 725ms\tremaining: 78.8ms\n",
      "902:\tlearn: 3.3518438\ttotal: 726ms\tremaining: 78ms\n",
      "903:\tlearn: 3.3490275\ttotal: 726ms\tremaining: 77.1ms\n",
      "904:\tlearn: 3.3376759\ttotal: 727ms\tremaining: 76.3ms\n",
      "905:\tlearn: 3.3305814\ttotal: 728ms\tremaining: 75.5ms\n",
      "906:\tlearn: 3.3240172\ttotal: 728ms\tremaining: 74.7ms\n",
      "907:\tlearn: 3.3184384\ttotal: 729ms\tremaining: 73.8ms\n",
      "908:\tlearn: 3.3129259\ttotal: 729ms\tremaining: 73ms\n",
      "909:\tlearn: 3.3017568\ttotal: 730ms\tremaining: 72.2ms\n",
      "910:\tlearn: 3.2952797\ttotal: 730ms\tremaining: 71.4ms\n",
      "911:\tlearn: 3.2865244\ttotal: 731ms\tremaining: 70.5ms\n",
      "912:\tlearn: 3.2795082\ttotal: 732ms\tremaining: 69.7ms\n",
      "913:\tlearn: 3.2708326\ttotal: 732ms\tremaining: 68.9ms\n",
      "914:\tlearn: 3.2623325\ttotal: 733ms\tremaining: 68.1ms\n",
      "915:\tlearn: 3.2553488\ttotal: 733ms\tremaining: 67.2ms\n",
      "916:\tlearn: 3.2470042\ttotal: 734ms\tremaining: 66.4ms\n",
      "917:\tlearn: 3.2416551\ttotal: 735ms\tremaining: 65.6ms\n",
      "918:\tlearn: 3.2363693\ttotal: 735ms\tremaining: 64.8ms\n",
      "919:\tlearn: 3.2299482\ttotal: 736ms\tremaining: 64ms\n",
      "920:\tlearn: 3.2230391\ttotal: 736ms\tremaining: 63.2ms\n",
      "921:\tlearn: 3.2149022\ttotal: 737ms\tremaining: 62.3ms\n",
      "922:\tlearn: 3.2097145\ttotal: 737ms\tremaining: 61.5ms\n",
      "923:\tlearn: 3.2033426\ttotal: 738ms\tremaining: 60.7ms\n",
      "924:\tlearn: 3.1953976\ttotal: 739ms\tremaining: 59.9ms\n",
      "925:\tlearn: 3.1876138\ttotal: 739ms\tremaining: 59.1ms\n",
      "926:\tlearn: 3.1807265\ttotal: 740ms\tremaining: 58.3ms\n",
      "927:\tlearn: 3.1756609\ttotal: 740ms\tremaining: 57.4ms\n",
      "928:\tlearn: 3.1693375\ttotal: 741ms\tremaining: 56.6ms\n",
      "929:\tlearn: 3.1643214\ttotal: 741ms\tremaining: 55.8ms\n",
      "930:\tlearn: 3.1567301\ttotal: 742ms\tremaining: 55ms\n",
      "931:\tlearn: 3.1499162\ttotal: 742ms\tremaining: 54.2ms\n",
      "932:\tlearn: 3.1436403\ttotal: 743ms\tremaining: 53.3ms\n",
      "933:\tlearn: 3.1387173\ttotal: 744ms\tremaining: 52.5ms\n",
      "934:\tlearn: 3.1312889\ttotal: 744ms\tremaining: 51.7ms\n",
      "935:\tlearn: 3.1264482\ttotal: 745ms\tremaining: 50.9ms\n",
      "936:\tlearn: 3.1210946\ttotal: 746ms\tremaining: 50.2ms\n",
      "937:\tlearn: 3.1125401\ttotal: 747ms\tremaining: 49.4ms\n",
      "938:\tlearn: 3.1052855\ttotal: 747ms\tremaining: 48.6ms\n",
      "939:\tlearn: 3.1006391\ttotal: 748ms\tremaining: 47.7ms\n",
      "940:\tlearn: 3.0960406\ttotal: 749ms\tremaining: 46.9ms\n",
      "941:\tlearn: 3.0889088\ttotal: 749ms\tremaining: 46.1ms\n",
      "942:\tlearn: 3.0843453\ttotal: 750ms\tremaining: 45.3ms\n",
      "943:\tlearn: 3.0798288\ttotal: 750ms\tremaining: 44.5ms\n",
      "944:\tlearn: 3.0751983\ttotal: 751ms\tremaining: 43.7ms\n",
      "945:\tlearn: 3.0682105\ttotal: 752ms\tremaining: 42.9ms\n",
      "946:\tlearn: 3.0637498\ttotal: 752ms\tremaining: 42.1ms\n",
      "947:\tlearn: 3.0592179\ttotal: 753ms\tremaining: 41.3ms\n",
      "948:\tlearn: 3.0523865\ttotal: 753ms\tremaining: 40.5ms\n",
      "949:\tlearn: 3.0456270\ttotal: 754ms\tremaining: 39.7ms\n",
      "950:\tlearn: 3.0388007\ttotal: 754ms\tremaining: 38.9ms\n",
      "951:\tlearn: 3.0343759\ttotal: 755ms\tremaining: 38ms\n",
      "952:\tlearn: 3.0299967\ttotal: 755ms\tremaining: 37.2ms\n",
      "953:\tlearn: 3.0255613\ttotal: 756ms\tremaining: 36.4ms\n",
      "954:\tlearn: 3.0188476\ttotal: 758ms\tremaining: 35.7ms\n",
      "955:\tlearn: 3.0118979\ttotal: 760ms\tremaining: 35ms\n",
      "956:\tlearn: 3.0051983\ttotal: 762ms\tremaining: 34.2ms\n",
      "957:\tlearn: 3.0008696\ttotal: 763ms\tremaining: 33.5ms\n",
      "958:\tlearn: 2.9965070\ttotal: 765ms\tremaining: 32.7ms\n",
      "959:\tlearn: 2.9878819\ttotal: 766ms\tremaining: 31.9ms\n",
      "960:\tlearn: 2.9813077\ttotal: 767ms\tremaining: 31.1ms\n",
      "961:\tlearn: 2.9770382\ttotal: 768ms\tremaining: 30.3ms\n",
      "962:\tlearn: 2.9727545\ttotal: 769ms\tremaining: 29.5ms\n",
      "963:\tlearn: 2.9661238\ttotal: 770ms\tremaining: 28.7ms\n",
      "964:\tlearn: 2.9592930\ttotal: 771ms\tremaining: 27.9ms\n",
      "965:\tlearn: 2.9528513\ttotal: 771ms\tremaining: 27.2ms\n",
      "966:\tlearn: 2.9486312\ttotal: 772ms\tremaining: 26.4ms\n",
      "967:\tlearn: 2.9444546\ttotal: 773ms\tremaining: 25.6ms\n",
      "968:\tlearn: 2.9402609\ttotal: 773ms\tremaining: 24.7ms\n",
      "969:\tlearn: 2.9339497\ttotal: 774ms\tremaining: 23.9ms\n",
      "970:\tlearn: 2.9298254\ttotal: 775ms\tremaining: 23.1ms\n",
      "971:\tlearn: 2.9257213\ttotal: 776ms\tremaining: 22.3ms\n",
      "972:\tlearn: 2.9191415\ttotal: 776ms\tremaining: 21.5ms\n",
      "973:\tlearn: 2.9106538\ttotal: 777ms\tremaining: 20.7ms\n",
      "974:\tlearn: 2.9044634\ttotal: 777ms\tremaining: 19.9ms\n",
      "975:\tlearn: 2.9003869\ttotal: 778ms\tremaining: 19.1ms\n",
      "976:\tlearn: 2.8963477\ttotal: 779ms\tremaining: 18.3ms\n",
      "977:\tlearn: 2.8898431\ttotal: 779ms\tremaining: 17.5ms\n",
      "978:\tlearn: 2.8814522\ttotal: 780ms\tremaining: 16.7ms\n",
      "979:\tlearn: 2.8753801\ttotal: 781ms\tremaining: 15.9ms\n",
      "980:\tlearn: 2.8713509\ttotal: 781ms\tremaining: 15.1ms\n",
      "981:\tlearn: 2.8673756\ttotal: 782ms\tremaining: 14.3ms\n",
      "982:\tlearn: 2.8614366\ttotal: 782ms\tremaining: 13.5ms\n",
      "983:\tlearn: 2.8574582\ttotal: 783ms\tremaining: 12.7ms\n",
      "984:\tlearn: 2.8535210\ttotal: 783ms\tremaining: 11.9ms\n",
      "985:\tlearn: 2.8496491\ttotal: 784ms\tremaining: 11.1ms\n",
      "986:\tlearn: 2.8431951\ttotal: 784ms\tremaining: 10.3ms\n",
      "987:\tlearn: 2.8351798\ttotal: 785ms\tremaining: 9.53ms\n",
      "988:\tlearn: 2.8293460\ttotal: 786ms\tremaining: 8.74ms\n",
      "989:\tlearn: 2.8254532\ttotal: 786ms\tremaining: 7.94ms\n",
      "990:\tlearn: 2.8216432\ttotal: 787ms\tremaining: 7.14ms\n",
      "991:\tlearn: 2.8152629\ttotal: 787ms\tremaining: 6.35ms\n",
      "992:\tlearn: 2.8073359\ttotal: 788ms\tremaining: 5.55ms\n",
      "993:\tlearn: 2.8016146\ttotal: 788ms\tremaining: 4.76ms\n",
      "994:\tlearn: 2.7962321\ttotal: 789ms\tremaining: 3.96ms\n",
      "995:\tlearn: 2.7924806\ttotal: 790ms\tremaining: 3.17ms\n",
      "996:\tlearn: 2.7868790\ttotal: 791ms\tremaining: 2.38ms\n",
      "997:\tlearn: 2.7830686\ttotal: 792ms\tremaining: 1.59ms\n",
      "998:\tlearn: 2.7792978\ttotal: 792ms\tremaining: 793us\n",
      "999:\tlearn: 2.7756443\ttotal: 793ms\tremaining: 0us\n"
     ]
    },
    {
     "data": {
      "text/plain": [
       "<catboost.core.CatBoostRegressor at 0x1cec4803760>"
      ]
     },
     "execution_count": 52,
     "metadata": {},
     "output_type": "execute_result"
    }
   ],
   "source": [
    "model_3.fit(X_train,y_train)"
   ]
  },
  {
   "cell_type": "code",
   "execution_count": 53,
   "id": "7f22b9eb",
   "metadata": {},
   "outputs": [],
   "source": [
    "y_preds_3=model_3.predict(X_test)"
   ]
  },
  {
   "cell_type": "code",
   "execution_count": 54,
   "id": "62469a6f",
   "metadata": {},
   "outputs": [],
   "source": [
    "evaluation_dict['Catboost']=evaluation_metrics(y_test,y_preds_3)"
   ]
  },
  {
   "cell_type": "code",
   "execution_count": 55,
   "id": "2333c522",
   "metadata": {},
   "outputs": [
    {
     "data": {
      "image/png": "[encoded data removed]",
      "text/plain": [
       "<Figure size 432x288 with 1 Axes>"
      ]
     },
     "metadata": {
      "needs_background": "light"
     },
     "output_type": "display_data"
    }
   ],
   "source": [
    "actual_vs_predicted(y_test,y_preds_3,model='Catboost')"
   ]
  },
  {
   "cell_type": "code",
   "execution_count": null,
   "id": "6d72f619",
   "metadata": {},
   "outputs": [],
   "source": []
  },
  {
   "cell_type": "markdown",
   "id": "3ce5f332",
   "metadata": {},
   "source": [
    "Adaboost"
   ]
  },
  {
   "cell_type": "code",
   "execution_count": 56,
   "id": "d9131d03",
   "metadata": {},
   "outputs": [],
   "source": [
    "from sklearn.ensemble import AdaBoostRegressor\n",
    "\n",
    "model_4=AdaBoostRegressor(random_state=42,loss='exponential')"
   ]
  },
  {
   "cell_type": "code",
   "execution_count": 57,
   "id": "ab7a79f1",
   "metadata": {},
   "outputs": [
    {
     "data": {
      "text/plain": [
       "AdaBoostRegressor(loss='exponential', random_state=42)"
      ]
     },
     "execution_count": 57,
     "metadata": {},
     "output_type": "execute_result"
    }
   ],
   "source": [
    "model_4.fit(X_train,y_train)"
   ]
  },
  {
   "cell_type": "code",
   "execution_count": 58,
   "id": "30b75c4f",
   "metadata": {},
   "outputs": [],
   "source": [
    "y_preds_4=model_4.predict(X_test)"
   ]
  },
  {
   "cell_type": "code",
   "execution_count": 59,
   "id": "ca507b9e",
   "metadata": {},
   "outputs": [],
   "source": [
    "evaluation_dict['Adaboost']=evaluation_metrics(y_test,y_preds_4)"
   ]
  },
  {
   "cell_type": "code",
   "execution_count": 60,
   "id": "c4ec4ddc",
   "metadata": {},
   "outputs": [
    {
     "data": {
      "text/plain": [
       "{'MSE': 595.662537414336,\n",
       " 'RMSE': 24.40619874979174,\n",
       " 'R2 score': 0.6298005964344419}"
      ]
     },
     "execution_count": 60,
     "metadata": {},
     "output_type": "execute_result"
    }
   ],
   "source": [
    "evaluation_dict['Adaboost']"
   ]
  },
  {
   "cell_type": "code",
   "execution_count": 61,
   "id": "f16513da",
   "metadata": {},
   "outputs": [
    {
     "data": {
      "image/png": "[encoded data removed]",
      "text/plain": [
       "<Figure size 432x288 with 1 Axes>"
      ]
     },
     "metadata": {
      "needs_background": "light"
     },
     "output_type": "display_data"
    }
   ],
   "source": [
    "actual_vs_predicted(y_test,y_preds_4,'Adaboost')"
   ]
  },
  {
   "cell_type": "code",
   "execution_count": null,
   "id": "e7175edd",
   "metadata": {},
   "outputs": [],
   "source": []
  },
  {
   "cell_type": "markdown",
   "id": "c5c6c683",
   "metadata": {},
   "source": [
    "Neural Network"
   ]
  },
  {
   "cell_type": "code",
   "execution_count": 62,
   "id": "5c75570e",
   "metadata": {},
   "outputs": [
    {
     "name": "stderr",
     "output_type": "stream",
     "text": [
      "C:\\Users\\prabh\\anaconda3\\lib\\site-packages\\keras\\optimizers\\optimizer_v2\\adam.py:114: UserWarning: The `lr` argument is deprecated, use `learning_rate` instead.\n",
      "  super().__init__(name, **kwargs)\n"
     ]
    },
    {
     "data": {
      "text/plain": [
       "<keras.callbacks.History at 0x1cec67f0670>"
      ]
     },
     "execution_count": 62,
     "metadata": {},
     "output_type": "execute_result"
    }
   ],
   "source": [
    "# del model_5\n",
    "model_5=tf.keras.models.Sequential()\n",
    "model_5.add(tf.keras.layers.Dense(25,activation='relu'))\n",
    "model_5.add(tf.keras.layers.Dense(1))\n",
    "\n",
    "\n",
    "\n",
    "model_5.compile(loss='mae',\n",
    "               optimizer=tf.keras.optimizers.Adam(lr=.8),\n",
    "               metrics=tf.keras.metrics.mean_absolute_error)\n",
    "\n",
    "\n",
    "model_5.fit(X_train_scaled,y_train,epochs=200,verbose=0)"
   ]
  },
  {
   "cell_type": "code",
   "execution_count": 63,
   "id": "ac48af42",
   "metadata": {},
   "outputs": [
    {
     "name": "stdout",
     "output_type": "stream",
     "text": [
      "1/1 [==============================] - 0s 78ms/step\n"
     ]
    }
   ],
   "source": [
    "y_preds_5=model_5.predict(X_test_scaled)"
   ]
  },
  {
   "cell_type": "code",
   "execution_count": 64,
   "id": "d4fed919",
   "metadata": {
    "scrolled": true
   },
   "outputs": [],
   "source": [
    "evaluation_dict['Neural Model']=evaluation_metrics(y_test,y_preds_5)"
   ]
  },
  {
   "cell_type": "code",
   "execution_count": 65,
   "id": "54155ac7",
   "metadata": {},
   "outputs": [
    {
     "data": {
      "text/plain": [
       "{'MSE': 718.7984622842173,\n",
       " 'RMSE': 26.810417047935253,\n",
       " 'R2 score': 0.5532726245022148}"
      ]
     },
     "execution_count": 65,
     "metadata": {},
     "output_type": "execute_result"
    }
   ],
   "source": [
    "evaluation_dict['Neural Model']"
   ]
  },
  {
   "cell_type": "code",
   "execution_count": 66,
   "id": "5f5b7c0c",
   "metadata": {},
   "outputs": [
    {
     "data": {
      "image/png": "[encoded data removed]",
      "text/plain": [
       "<Figure size 432x288 with 1 Axes>"
      ]
     },
     "metadata": {
      "needs_background": "light"
     },
     "output_type": "display_data"
    }
   ],
   "source": [
    "actual_vs_predicted(y_test,y_preds_5,model='Neural Network')"
   ]
  },
  {
   "cell_type": "code",
   "execution_count": null,
   "id": "f7b3450f",
   "metadata": {},
   "outputs": [],
   "source": []
  },
  {
   "cell_type": "markdown",
   "id": "2624eb1c",
   "metadata": {},
   "source": [
    "MLPRegressor"
   ]
  },
  {
   "cell_type": "code",
   "execution_count": 67,
   "id": "b9a9732c",
   "metadata": {},
   "outputs": [],
   "source": [
    "from sklearn.neural_network import MLPRegressor"
   ]
  },
  {
   "cell_type": "code",
   "execution_count": 68,
   "id": "5be59f59",
   "metadata": {},
   "outputs": [],
   "source": [
    "# del model_6\n",
    "model_6=MLPRegressor(hidden_layer_sizes=(14))"
   ]
  },
  {
   "cell_type": "code",
   "execution_count": 69,
   "id": "e3270d36",
   "metadata": {},
   "outputs": [
    {
     "name": "stderr",
     "output_type": "stream",
     "text": [
      "C:\\Users\\prabh\\anaconda3\\lib\\site-packages\\sklearn\\neural_network\\_multilayer_perceptron.py:614: ConvergenceWarning: Stochastic Optimizer: Maximum iterations (200) reached and the optimization hasn't converged yet.\n",
      "  warnings.warn(\n"
     ]
    },
    {
     "data": {
      "text/plain": [
       "MLPRegressor(hidden_layer_sizes=14)"
      ]
     },
     "execution_count": 69,
     "metadata": {},
     "output_type": "execute_result"
    }
   ],
   "source": [
    "model_6.fit(X_train,y_train)"
   ]
  },
  {
   "cell_type": "code",
   "execution_count": 70,
   "id": "aa7e8743",
   "metadata": {},
   "outputs": [
    {
     "data": {
      "text/plain": [
       "{'MSE': 611.3284338975656,\n",
       " 'RMSE': 24.725056802716665,\n",
       " 'R2 score': 0.620064369678289}"
      ]
     },
     "execution_count": 70,
     "metadata": {},
     "output_type": "execute_result"
    }
   ],
   "source": [
    "y_preds_6=model_6.predict(X_test)\n",
    "evaluation_dict['MLPRegressor']=evaluation_metrics(y_test,y_preds_6)\n",
    "evaluation_dict['MLPRegressor']"
   ]
  },
  {
   "cell_type": "code",
   "execution_count": 71,
   "id": "1e6592b4",
   "metadata": {},
   "outputs": [
    {
     "data": {
      "image/png": "[encoded data removed]",
      "text/plain": [
       "<Figure size 432x288 with 1 Axes>"
      ]
     },
     "metadata": {
      "needs_background": "light"
     },
     "output_type": "display_data"
    }
   ],
   "source": [
    "actual_vs_predicted(y_test,y_preds_6,model='MLPRegressor')"
   ]
  },
  {
   "cell_type": "code",
   "execution_count": 72,
   "id": "a0101c46",
   "metadata": {},
   "outputs": [],
   "source": [
    "eval_df=pd.DataFrame(data=evaluation_dict)"
   ]
  },
  {
   "cell_type": "code",
   "execution_count": 73,
   "id": "225884a8",
   "metadata": {},
   "outputs": [],
   "source": [
    "index=eval_df.index"
   ]
  },
  {
   "cell_type": "code",
   "execution_count": 74,
   "id": "4984c796",
   "metadata": {},
   "outputs": [
    {
     "data": {
      "image/png": "[encoded data removed]",
      "text/plain": [
       "<Figure size 1080x1080 with 3 Axes>"
      ]
     },
     "metadata": {
      "needs_background": "light"
     },
     "output_type": "display_data"
    }
   ],
   "source": [
    "plt.figure(figsize=(15,15))\n",
    "for i in range(len(index)):\n",
    "    plt.subplot(3,1,i+1)\n",
    "    eval_df.iloc[i].plot(kind='bar')\n",
    "    plt.ylabel(f'{index[i]}')\n",
    "    plt.title(f'Model and its {index[i]}')\n",
    "    plt.tight_layout()"
   ]
  },
  {
   "cell_type": "code",
   "execution_count": 75,
   "id": "a3d51385",
   "metadata": {},
   "outputs": [],
   "source": [
    "#Conclusion: Xgboost and Catboost are best models among all"
   ]
  },
  {
   "cell_type": "code",
   "execution_count": 76,
   "id": "cf3180e4",
   "metadata": {},
   "outputs": [],
   "source": [
    "#creating a custom function to predict new listing day gains\n",
    "\n",
    "def custom_predict(model,issue_price,x=[]):\n",
    "    \"\"\"Takes list input in order of Retail Investors,Qualified Investors,Non Instititional\n",
    "    # model_1= RandomForestRegressor\n",
    "    # model_2= Xgbooost\n",
    "    # model_3= Catboost\n",
    "    # model_4= Adaboost\n",
    "    # model_5= Neural network\n",
    "    # model_6= MLPRegressor\n",
    "    \"\"\"\n",
    "    x=np.array(x)\n",
    "    x=np.expand_dims(x,axis=0)\n",
    "    \n",
    "    gain=model.predict(x)\n",
    "    closing_price = issue_price * (1+gain/100)\n",
    "    \n",
    "    return f'Listing day gains are {gain} and closing price is {closing_price}'\n",
    "    "
   ]
  },
  {
   "cell_type": "code",
   "execution_count": 77,
   "id": "3a3ceb98",
   "metadata": {},
   "outputs": [
    {
     "data": {
      "text/plain": [
       "'Listing day gains are [-4.2458644] and closing price is [62.24019]'"
      ]
     },
     "execution_count": 77,
     "metadata": {},
     "output_type": "execute_result"
    }
   ],
   "source": [
    "custom_predict(model=model_2,x=[20.71,1.06,8.28],issue_price=65)"
   ]
  },
  {
   "cell_type": "code",
   "execution_count": null,
   "id": "dbb7ec76",
   "metadata": {},
   "outputs": [],
   "source": []
  },
  {
   "cell_type": "code",
   "execution_count": null,
   "id": "7ddd85c3",
   "metadata": {},
   "outputs": [],
   "source": []
  },
  {
   "cell_type": "code",
   "execution_count": null,
   "id": "e175e536",
   "metadata": {},
   "outputs": [],
   "source": []
  },
  {
   "cell_type": "code",
   "execution_count": null,
   "id": "d2adf13c",
   "metadata": {},
   "outputs": [],
   "source": []
  },
  {
   "cell_type": "code",
   "execution_count": null,
   "id": "f7c48549",
   "metadata": {},
   "outputs": [],
   "source": []
  },
  {
   "cell_type": "code",
   "execution_count": null,
   "id": "6bb45e23",
   "metadata": {},
   "outputs": [],
   "source": []
  },
  {
   "cell_type": "code",
   "execution_count": null,
   "id": "ba3da435",
   "metadata": {},
   "outputs": [],
   "source": []
  }
 ],
 "metadata": {
  "kernelspec": {
   "display_name": "Python 3",
   "language": "python",
   "name": "python3"
  },
  "language_info": {
   "codemirror_mode": {
    "name": "ipython",
    "version": 3
   },
   "file_extension": ".py",
   "mimetype": "text/x-python",
   "name": "python",
   "nbconvert_exporter": "python",
   "pygments_lexer": "ipython3",
   "version": "3.8.8"
  }
 },
 "nbformat": 4,
 "nbformat_minor": 5
}
